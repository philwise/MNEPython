{
  "cells": [
    {
      "cell_type": "markdown",
      "metadata": {
        "id": "view-in-github",
        "colab_type": "text"
      },
      "source": [
        "<a href=\"https://colab.research.google.com/github/philwise/MNEPython/blob/master/Project_Movie_Recommendation_Learners_Notebook_final_PWise.ipynb\" target=\"_parent\"><img src=\"https://colab.research.google.com/assets/colab-badge.svg\" alt=\"Open In Colab\"/></a>"
      ]
    },
    {
      "cell_type": "markdown",
      "metadata": {
        "id": "Cf3GloRNvOOG"
      },
      "source": [
        "# **Project - Recommendation Systems: Movie Recommendation System**\n",
        "\n",
        "## **Marks: 40**\n",
        "---------------\n",
        "## **Context**\n",
        "---------------\n",
        "\n",
        "Online streaming platforms like **Netflix** have plenty of movies in their repository and if we can build a **Recommendation System** to recommend **relevant movies** to users, based on their **historical interactions**, this would **improve customer satisfaction** and hence, it will also improve the revenue of the platform. The techniques that we will learn here will not only be limited to movies, it can be any item for which you want to build a recommendation system.\n",
        "\n",
        "-----------------\n",
        "## **Objective**\n",
        "-----------------\n",
        "\n",
        "In this project we will be building various recommendation systems: \n",
        "- Knowledge/Rank based recommendation system\n",
        "- Similarity-Based Collaborative filtering\n",
        "- Matrix Factorization Based Collaborative Filtering\n",
        "\n",
        "we are going to use the **ratings** dataset. \n",
        "\n",
        "-----------------\n",
        "## **Dataset**\n",
        "-----------------\n",
        "\n",
        "The **ratings** dataset contains the following attributes: \n",
        "- userId\n",
        "- movieId\n",
        "- rating\n",
        "- timestamp"
      ]
    },
    {
      "cell_type": "markdown",
      "metadata": {
        "id": "VcUTqJ5pwmuY"
      },
      "source": [
        "Sometimes, the installation of the surprise library, which is used to build recommendation systems, faces issues in Jupyter. To avoid any issues, it is advised to use **Google Colab** for this case study.\n",
        "\n",
        "Let's start by mounting the Google drive on Colab."
      ]
    },
    {
      "cell_type": "code",
      "execution_count": 2,
      "metadata": {
        "id": "FYrMMOH6sm8f",
        "colab": {
          "base_uri": "https://localhost:8080/"
        },
        "outputId": "5d396917-4349-4158-824c-38a6d16ba751"
      },
      "outputs": [
        {
          "output_type": "stream",
          "name": "stdout",
          "text": [
            "Mounted at /content/drive\n"
          ]
        }
      ],
      "source": [
        "# uncomment if you are using google colab\n",
        "\n",
        "from google.colab import drive\n",
        "drive.mount('/content/drive')"
      ]
    },
    {
      "cell_type": "markdown",
      "metadata": {
        "id": "jRmwxTz1xKew"
      },
      "source": [
        "**Installing surprise library**"
      ]
    },
    {
      "cell_type": "code",
      "execution_count": 3,
      "metadata": {
        "id": "J1TItcxtwIAZ",
        "colab": {
          "base_uri": "https://localhost:8080/"
        },
        "outputId": "4c6616cb-d9d3-4518-ce3c-e9ff4f812649"
      },
      "outputs": [
        {
          "output_type": "stream",
          "name": "stdout",
          "text": [
            "Looking in indexes: https://pypi.org/simple, https://us-python.pkg.dev/colab-wheels/public/simple/\n",
            "Collecting surprise\n",
            "  Downloading surprise-0.1-py2.py3-none-any.whl (1.8 kB)\n",
            "Collecting scikit-surprise (from surprise)\n",
            "  Downloading scikit-surprise-1.1.3.tar.gz (771 kB)\n",
            "\u001b[2K     \u001b[90m━━━━━━━━━━━━━━━━━━━━━━━━━━━━━━━━━━━━━━\u001b[0m \u001b[32m772.0/772.0 kB\u001b[0m \u001b[31m31.9 MB/s\u001b[0m eta \u001b[36m0:00:00\u001b[0m\n",
            "\u001b[?25h  Preparing metadata (setup.py) ... \u001b[?25l\u001b[?25hdone\n",
            "Requirement already satisfied: joblib>=1.0.0 in /usr/local/lib/python3.10/dist-packages (from scikit-surprise->surprise) (1.2.0)\n",
            "Requirement already satisfied: numpy>=1.17.3 in /usr/local/lib/python3.10/dist-packages (from scikit-surprise->surprise) (1.22.4)\n",
            "Requirement already satisfied: scipy>=1.3.2 in /usr/local/lib/python3.10/dist-packages (from scikit-surprise->surprise) (1.10.1)\n",
            "Building wheels for collected packages: scikit-surprise\n",
            "  Building wheel for scikit-surprise (setup.py) ... \u001b[?25l\u001b[?25hdone\n",
            "  Created wheel for scikit-surprise: filename=scikit_surprise-1.1.3-cp310-cp310-linux_x86_64.whl size=3095445 sha256=42cb523d9b2517fa595833d26c8d1f441896efce2fd466df4c9b8d9f1b3dfefe\n",
            "  Stored in directory: /root/.cache/pip/wheels/a5/ca/a8/4e28def53797fdc4363ca4af740db15a9c2f1595ebc51fb445\n",
            "Successfully built scikit-surprise\n",
            "Installing collected packages: scikit-surprise, surprise\n",
            "Successfully installed scikit-surprise-1.1.3 surprise-0.1\n"
          ]
        }
      ],
      "source": [
        "# Installing surprise library, only do it for first time\n",
        "!pip install surprise"
      ]
    },
    {
      "cell_type": "markdown",
      "metadata": {
        "id": "9hczXgBkvOOG"
      },
      "source": [
        "## **Importing the necessary libraries and overview of the dataset**"
      ]
    },
    {
      "cell_type": "code",
      "execution_count": 4,
      "metadata": {
        "id": "Gem2ozi_vOOG"
      },
      "outputs": [],
      "source": [
        "# Used to ignore the warning given as output of the code\n",
        "import warnings                                 \n",
        "warnings.filterwarnings('ignore')\n",
        "\n",
        "# Basic libraries of python for numeric and dataframe computations\n",
        "import numpy as np                              \n",
        "import pandas as pd\n",
        "\n",
        "# Basic library for data visualization\n",
        "import matplotlib.pyplot as plt     \n",
        "\n",
        "# Slightly advanced library for data visualization            \n",
        "import seaborn as sns                           \n",
        "\n",
        "# A dictionary output that does not raise a key error\n",
        "from collections import defaultdict             \n",
        "\n",
        "# A performance metrics in surprise\n",
        "from surprise import accuracy\n",
        "\n",
        "# Class is used to parse a file containing ratings, data should be in structure - user ; item ; rating\n",
        "from surprise.reader import Reader\n",
        "\n",
        "# Class for loading datasets\n",
        "from surprise.dataset import Dataset\n",
        "\n",
        "# For model tuning model hyper-parameters\n",
        "from surprise.model_selection import GridSearchCV\n",
        "\n",
        "# For splitting the rating data in train and test dataset\n",
        "from surprise.model_selection import train_test_split\n",
        "\n",
        "# For implementing similarity based recommendation system\n",
        "from surprise.prediction_algorithms.knns import KNNBasic\n",
        "\n",
        "# For implementing matrix factorization based recommendation system\n",
        "from surprise.prediction_algorithms.matrix_factorization import SVD\n",
        "\n",
        "# For implementing cross validation\n",
        "from surprise.model_selection import KFold"
      ]
    },
    {
      "cell_type": "markdown",
      "metadata": {
        "id": "ewHMWerQ2N9T"
      },
      "source": [
        "### **Loading the data**"
      ]
    },
    {
      "cell_type": "code",
      "execution_count": 5,
      "metadata": {
        "id": "EdQIx3OLvOOG"
      },
      "outputs": [],
      "source": [
        "# Import the dataset\n",
        "rating = pd.read_csv('/content/drive/MyDrive/Colab Notebooks/ratings.csv')\n",
        "#rating = pd.read_csv('/content/drive/MyDrive/ratings.csv') # Uncomment this line code  and comment above line of code if you are using google colab."
      ]
    },
    {
      "cell_type": "markdown",
      "metadata": {
        "id": "WAW3gTmB2N9a"
      },
      "source": [
        "Let's check the **info** of the data"
      ]
    },
    {
      "cell_type": "code",
      "execution_count": 6,
      "metadata": {
        "id": "8zF1K1hDvOOG",
        "colab": {
          "base_uri": "https://localhost:8080/"
        },
        "outputId": "366b4499-4522-4358-8a7f-81342206bc65"
      },
      "outputs": [
        {
          "output_type": "stream",
          "name": "stdout",
          "text": [
            "<class 'pandas.core.frame.DataFrame'>\n",
            "RangeIndex: 100004 entries, 0 to 100003\n",
            "Data columns (total 4 columns):\n",
            " #   Column     Non-Null Count   Dtype  \n",
            "---  ------     --------------   -----  \n",
            " 0   userId     100004 non-null  int64  \n",
            " 1   movieId    100004 non-null  int64  \n",
            " 2   rating     100004 non-null  float64\n",
            " 3   timestamp  100004 non-null  int64  \n",
            "dtypes: float64(1), int64(3)\n",
            "memory usage: 3.1 MB\n"
          ]
        }
      ],
      "source": [
        "rating.info()"
      ]
    },
    {
      "cell_type": "markdown",
      "metadata": {
        "id": "202Ux9MH2N9f"
      },
      "source": [
        "- There are **1,00,004 observations** and **4 columns** in the data\n",
        "- All the columns are of **numeric data type**\n",
        "- The data type of the timestamp column is int64 which is not correct. We can convert this to DateTime format but **we don't need timestamp for our analysis**. Hence, **we can drop this column**"
      ]
    },
    {
      "cell_type": "code",
      "execution_count": 7,
      "metadata": {
        "id": "fltadjTcvOOH"
      },
      "outputs": [],
      "source": [
        "# Dropping timestamp column\n",
        "rating = rating.drop(['timestamp'], axis=1)"
      ]
    },
    {
      "cell_type": "markdown",
      "metadata": {
        "id": "mHOFHmoBwIAw"
      },
      "source": [
        "## **Question 1: Exploring the dataset (7 Marks)**\n",
        "\n",
        "Let's explore the dataset and answer some basic data-related questions:\n",
        "\n",
        "###**Q 1.1 Print the top 5 rows of the dataset (1 Mark)**"
      ]
    },
    {
      "cell_type": "code",
      "execution_count": 8,
      "metadata": {
        "id": "1Q6gs-IO2N9i",
        "colab": {
          "base_uri": "https://localhost:8080/",
          "height": 206
        },
        "outputId": "1c34af22-c7a6-4de2-92cd-dcc9ffee6aed"
      },
      "outputs": [
        {
          "output_type": "execute_result",
          "data": {
            "text/plain": [
              "   userId  movieId  rating\n",
              "0       1       31     2.5\n",
              "1       1     1029     3.0\n",
              "2       1     1061     3.0\n",
              "3       1     1129     2.0\n",
              "4       1     1172     4.0"
            ],
            "text/html": [
              "\n",
              "  <div id=\"df-ccec04df-f8ee-410c-b8cc-d4a079b8949e\">\n",
              "    <div class=\"colab-df-container\">\n",
              "      <div>\n",
              "<style scoped>\n",
              "    .dataframe tbody tr th:only-of-type {\n",
              "        vertical-align: middle;\n",
              "    }\n",
              "\n",
              "    .dataframe tbody tr th {\n",
              "        vertical-align: top;\n",
              "    }\n",
              "\n",
              "    .dataframe thead th {\n",
              "        text-align: right;\n",
              "    }\n",
              "</style>\n",
              "<table border=\"1\" class=\"dataframe\">\n",
              "  <thead>\n",
              "    <tr style=\"text-align: right;\">\n",
              "      <th></th>\n",
              "      <th>userId</th>\n",
              "      <th>movieId</th>\n",
              "      <th>rating</th>\n",
              "    </tr>\n",
              "  </thead>\n",
              "  <tbody>\n",
              "    <tr>\n",
              "      <th>0</th>\n",
              "      <td>1</td>\n",
              "      <td>31</td>\n",
              "      <td>2.5</td>\n",
              "    </tr>\n",
              "    <tr>\n",
              "      <th>1</th>\n",
              "      <td>1</td>\n",
              "      <td>1029</td>\n",
              "      <td>3.0</td>\n",
              "    </tr>\n",
              "    <tr>\n",
              "      <th>2</th>\n",
              "      <td>1</td>\n",
              "      <td>1061</td>\n",
              "      <td>3.0</td>\n",
              "    </tr>\n",
              "    <tr>\n",
              "      <th>3</th>\n",
              "      <td>1</td>\n",
              "      <td>1129</td>\n",
              "      <td>2.0</td>\n",
              "    </tr>\n",
              "    <tr>\n",
              "      <th>4</th>\n",
              "      <td>1</td>\n",
              "      <td>1172</td>\n",
              "      <td>4.0</td>\n",
              "    </tr>\n",
              "  </tbody>\n",
              "</table>\n",
              "</div>\n",
              "      <button class=\"colab-df-convert\" onclick=\"convertToInteractive('df-ccec04df-f8ee-410c-b8cc-d4a079b8949e')\"\n",
              "              title=\"Convert this dataframe to an interactive table.\"\n",
              "              style=\"display:none;\">\n",
              "        \n",
              "  <svg xmlns=\"http://www.w3.org/2000/svg\" height=\"24px\"viewBox=\"0 0 24 24\"\n",
              "       width=\"24px\">\n",
              "    <path d=\"M0 0h24v24H0V0z\" fill=\"none\"/>\n",
              "    <path d=\"M18.56 5.44l.94 2.06.94-2.06 2.06-.94-2.06-.94-.94-2.06-.94 2.06-2.06.94zm-11 1L8.5 8.5l.94-2.06 2.06-.94-2.06-.94L8.5 2.5l-.94 2.06-2.06.94zm10 10l.94 2.06.94-2.06 2.06-.94-2.06-.94-.94-2.06-.94 2.06-2.06.94z\"/><path d=\"M17.41 7.96l-1.37-1.37c-.4-.4-.92-.59-1.43-.59-.52 0-1.04.2-1.43.59L10.3 9.45l-7.72 7.72c-.78.78-.78 2.05 0 2.83L4 21.41c.39.39.9.59 1.41.59.51 0 1.02-.2 1.41-.59l7.78-7.78 2.81-2.81c.8-.78.8-2.07 0-2.86zM5.41 20L4 18.59l7.72-7.72 1.47 1.35L5.41 20z\"/>\n",
              "  </svg>\n",
              "      </button>\n",
              "      \n",
              "  <style>\n",
              "    .colab-df-container {\n",
              "      display:flex;\n",
              "      flex-wrap:wrap;\n",
              "      gap: 12px;\n",
              "    }\n",
              "\n",
              "    .colab-df-convert {\n",
              "      background-color: #E8F0FE;\n",
              "      border: none;\n",
              "      border-radius: 50%;\n",
              "      cursor: pointer;\n",
              "      display: none;\n",
              "      fill: #1967D2;\n",
              "      height: 32px;\n",
              "      padding: 0 0 0 0;\n",
              "      width: 32px;\n",
              "    }\n",
              "\n",
              "    .colab-df-convert:hover {\n",
              "      background-color: #E2EBFA;\n",
              "      box-shadow: 0px 1px 2px rgba(60, 64, 67, 0.3), 0px 1px 3px 1px rgba(60, 64, 67, 0.15);\n",
              "      fill: #174EA6;\n",
              "    }\n",
              "\n",
              "    [theme=dark] .colab-df-convert {\n",
              "      background-color: #3B4455;\n",
              "      fill: #D2E3FC;\n",
              "    }\n",
              "\n",
              "    [theme=dark] .colab-df-convert:hover {\n",
              "      background-color: #434B5C;\n",
              "      box-shadow: 0px 1px 3px 1px rgba(0, 0, 0, 0.15);\n",
              "      filter: drop-shadow(0px 1px 2px rgba(0, 0, 0, 0.3));\n",
              "      fill: #FFFFFF;\n",
              "    }\n",
              "  </style>\n",
              "\n",
              "      <script>\n",
              "        const buttonEl =\n",
              "          document.querySelector('#df-ccec04df-f8ee-410c-b8cc-d4a079b8949e button.colab-df-convert');\n",
              "        buttonEl.style.display =\n",
              "          google.colab.kernel.accessAllowed ? 'block' : 'none';\n",
              "\n",
              "        async function convertToInteractive(key) {\n",
              "          const element = document.querySelector('#df-ccec04df-f8ee-410c-b8cc-d4a079b8949e');\n",
              "          const dataTable =\n",
              "            await google.colab.kernel.invokeFunction('convertToInteractive',\n",
              "                                                     [key], {});\n",
              "          if (!dataTable) return;\n",
              "\n",
              "          const docLinkHtml = 'Like what you see? Visit the ' +\n",
              "            '<a target=\"_blank\" href=https://colab.research.google.com/notebooks/data_table.ipynb>data table notebook</a>'\n",
              "            + ' to learn more about interactive tables.';\n",
              "          element.innerHTML = '';\n",
              "          dataTable['output_type'] = 'display_data';\n",
              "          await google.colab.output.renderOutput(dataTable, element);\n",
              "          const docLink = document.createElement('div');\n",
              "          docLink.innerHTML = docLinkHtml;\n",
              "          element.appendChild(docLink);\n",
              "        }\n",
              "      </script>\n",
              "    </div>\n",
              "  </div>\n",
              "  "
            ]
          },
          "metadata": {},
          "execution_count": 8
        }
      ],
      "source": [
        "# Printing the top 5 rows of the dataset Hint: use .head()\n",
        "\n",
        "# Remove _______and complete the code\n",
        "rating.head(5)"
      ]
    },
    {
      "cell_type": "markdown",
      "metadata": {
        "id": "fBZYy0HavOOH"
      },
      "source": [
        "### **Q 1.2 Describe the distribution of ratings. (1 Mark)**\n",
        "\n"
      ]
    },
    {
      "cell_type": "code",
      "execution_count": 9,
      "metadata": {
        "id": "lO-EYEl3wIA2",
        "colab": {
          "base_uri": "https://localhost:8080/",
          "height": 407
        },
        "outputId": "75b449ac-2fe7-4d09-91b2-02bc0feb3b6b"
      },
      "outputs": [
        {
          "output_type": "display_data",
          "data": {
            "text/plain": [
              "<Figure size 1200x400 with 1 Axes>"
            ],
            "image/png": "[encoded data removed]"
          },
          "metadata": {}
        }
      ],
      "source": [
        "plt.figure(figsize = (12, 4))\n",
        "\n",
        "# Remove _______and complete the code\n",
        "sns.countplot(data=rating, x='rating')\n",
        "\n",
        "plt.tick_params(labelsize = 10)\n",
        "plt.title(\"Distribution of Ratings \", fontsize = 10)\n",
        "plt.xlabel(\"Ratings\", fontsize = 10)\n",
        "plt.ylabel(\"Number of Ratings\", fontsize = 10)\n",
        "plt.show()"
      ]
    },
    {
      "cell_type": "markdown",
      "metadata": {
        "id": "vgRDrtHhwIA4"
      },
      "source": [
        "**Write your Answer here:sns.countplot(data=rating, x='rating')**"
      ]
    },
    {
      "cell_type": "markdown",
      "metadata": {
        "id": "UOBD03d9vOOH"
      },
      "source": [
        "### **Q 1.3 What is the total number of unique users and unique movies? (1 Mark)**\n"
      ]
    },
    {
      "cell_type": "code",
      "execution_count": 10,
      "metadata": {
        "id": "RMpbsZGGvOOH",
        "colab": {
          "base_uri": "https://localhost:8080/"
        },
        "outputId": "8c0bd425-17cf-4fe6-d337-91aa6f3ac55a"
      },
      "outputs": [
        {
          "output_type": "execute_result",
          "data": {
            "text/plain": [
              "671"
            ]
          },
          "metadata": {},
          "execution_count": 10
        }
      ],
      "source": [
        "# Finding number of unique users\n",
        "rating['userId'].nunique()"
      ]
    },
    {
      "cell_type": "markdown",
      "metadata": {
        "id": "CI8gofnx2N9m"
      },
      "source": [
        "**Write your answer here: 671**"
      ]
    },
    {
      "cell_type": "code",
      "execution_count": 11,
      "metadata": {
        "id": "9A6Qmo_6vOOH",
        "colab": {
          "base_uri": "https://localhost:8080/"
        },
        "outputId": "bc22a7ac-7f7d-45e1-b986-3432ffcf72b3"
      },
      "outputs": [
        {
          "output_type": "execute_result",
          "data": {
            "text/plain": [
              "9066"
            ]
          },
          "metadata": {},
          "execution_count": 11
        }
      ],
      "source": [
        "# Finding number of unique movies\n",
        "# Remove _______ and complete the code\n",
        "\n",
        "rating['movieId'].nunique()"
      ]
    },
    {
      "cell_type": "markdown",
      "metadata": {
        "id": "mDWJghQ62N9o"
      },
      "source": [
        "**Write your answer here: 9066**"
      ]
    },
    {
      "cell_type": "markdown",
      "metadata": {
        "id": "mR9tzSzTvOOH"
      },
      "source": [
        "### **Q 1.4 Is there a movie in which the same user interacted with it more than once? (1 Mark)**"
      ]
    },
    {
      "cell_type": "code",
      "execution_count": 12,
      "metadata": {
        "id": "xstEDCVfvOOH",
        "colab": {
          "base_uri": "https://localhost:8080/",
          "height": 455
        },
        "outputId": "e3c006d3-ab7f-423e-e189-57f4c2b636f0"
      },
      "outputs": [
        {
          "output_type": "execute_result",
          "data": {
            "text/plain": [
              "                rating\n",
              "userId movieId        \n",
              "1      31            1\n",
              "       1029          1\n",
              "       1061          1\n",
              "       1129          1\n",
              "       1172          1\n",
              "...                ...\n",
              "671    6268          1\n",
              "       6269          1\n",
              "       6365          1\n",
              "       6385          1\n",
              "       6565          1\n",
              "\n",
              "[100004 rows x 1 columns]"
            ],
            "text/html": [
              "\n",
              "  <div id=\"df-ff4e80cd-94e0-4052-893b-9eaae92284e1\">\n",
              "    <div class=\"colab-df-container\">\n",
              "      <div>\n",
              "<style scoped>\n",
              "    .dataframe tbody tr th:only-of-type {\n",
              "        vertical-align: middle;\n",
              "    }\n",
              "\n",
              "    .dataframe tbody tr th {\n",
              "        vertical-align: top;\n",
              "    }\n",
              "\n",
              "    .dataframe thead th {\n",
              "        text-align: right;\n",
              "    }\n",
              "</style>\n",
              "<table border=\"1\" class=\"dataframe\">\n",
              "  <thead>\n",
              "    <tr style=\"text-align: right;\">\n",
              "      <th></th>\n",
              "      <th></th>\n",
              "      <th>rating</th>\n",
              "    </tr>\n",
              "    <tr>\n",
              "      <th>userId</th>\n",
              "      <th>movieId</th>\n",
              "      <th></th>\n",
              "    </tr>\n",
              "  </thead>\n",
              "  <tbody>\n",
              "    <tr>\n",
              "      <th rowspan=\"5\" valign=\"top\">1</th>\n",
              "      <th>31</th>\n",
              "      <td>1</td>\n",
              "    </tr>\n",
              "    <tr>\n",
              "      <th>1029</th>\n",
              "      <td>1</td>\n",
              "    </tr>\n",
              "    <tr>\n",
              "      <th>1061</th>\n",
              "      <td>1</td>\n",
              "    </tr>\n",
              "    <tr>\n",
              "      <th>1129</th>\n",
              "      <td>1</td>\n",
              "    </tr>\n",
              "    <tr>\n",
              "      <th>1172</th>\n",
              "      <td>1</td>\n",
              "    </tr>\n",
              "    <tr>\n",
              "      <th>...</th>\n",
              "      <th>...</th>\n",
              "      <td>...</td>\n",
              "    </tr>\n",
              "    <tr>\n",
              "      <th rowspan=\"5\" valign=\"top\">671</th>\n",
              "      <th>6268</th>\n",
              "      <td>1</td>\n",
              "    </tr>\n",
              "    <tr>\n",
              "      <th>6269</th>\n",
              "      <td>1</td>\n",
              "    </tr>\n",
              "    <tr>\n",
              "      <th>6365</th>\n",
              "      <td>1</td>\n",
              "    </tr>\n",
              "    <tr>\n",
              "      <th>6385</th>\n",
              "      <td>1</td>\n",
              "    </tr>\n",
              "    <tr>\n",
              "      <th>6565</th>\n",
              "      <td>1</td>\n",
              "    </tr>\n",
              "  </tbody>\n",
              "</table>\n",
              "<p>100004 rows × 1 columns</p>\n",
              "</div>\n",
              "      <button class=\"colab-df-convert\" onclick=\"convertToInteractive('df-ff4e80cd-94e0-4052-893b-9eaae92284e1')\"\n",
              "              title=\"Convert this dataframe to an interactive table.\"\n",
              "              style=\"display:none;\">\n",
              "        \n",
              "  <svg xmlns=\"http://www.w3.org/2000/svg\" height=\"24px\"viewBox=\"0 0 24 24\"\n",
              "       width=\"24px\">\n",
              "    <path d=\"M0 0h24v24H0V0z\" fill=\"none\"/>\n",
              "    <path d=\"M18.56 5.44l.94 2.06.94-2.06 2.06-.94-2.06-.94-.94-2.06-.94 2.06-2.06.94zm-11 1L8.5 8.5l.94-2.06 2.06-.94-2.06-.94L8.5 2.5l-.94 2.06-2.06.94zm10 10l.94 2.06.94-2.06 2.06-.94-2.06-.94-.94-2.06-.94 2.06-2.06.94z\"/><path d=\"M17.41 7.96l-1.37-1.37c-.4-.4-.92-.59-1.43-.59-.52 0-1.04.2-1.43.59L10.3 9.45l-7.72 7.72c-.78.78-.78 2.05 0 2.83L4 21.41c.39.39.9.59 1.41.59.51 0 1.02-.2 1.41-.59l7.78-7.78 2.81-2.81c.8-.78.8-2.07 0-2.86zM5.41 20L4 18.59l7.72-7.72 1.47 1.35L5.41 20z\"/>\n",
              "  </svg>\n",
              "      </button>\n",
              "      \n",
              "  <style>\n",
              "    .colab-df-container {\n",
              "      display:flex;\n",
              "      flex-wrap:wrap;\n",
              "      gap: 12px;\n",
              "    }\n",
              "\n",
              "    .colab-df-convert {\n",
              "      background-color: #E8F0FE;\n",
              "      border: none;\n",
              "      border-radius: 50%;\n",
              "      cursor: pointer;\n",
              "      display: none;\n",
              "      fill: #1967D2;\n",
              "      height: 32px;\n",
              "      padding: 0 0 0 0;\n",
              "      width: 32px;\n",
              "    }\n",
              "\n",
              "    .colab-df-convert:hover {\n",
              "      background-color: #E2EBFA;\n",
              "      box-shadow: 0px 1px 2px rgba(60, 64, 67, 0.3), 0px 1px 3px 1px rgba(60, 64, 67, 0.15);\n",
              "      fill: #174EA6;\n",
              "    }\n",
              "\n",
              "    [theme=dark] .colab-df-convert {\n",
              "      background-color: #3B4455;\n",
              "      fill: #D2E3FC;\n",
              "    }\n",
              "\n",
              "    [theme=dark] .colab-df-convert:hover {\n",
              "      background-color: #434B5C;\n",
              "      box-shadow: 0px 1px 3px 1px rgba(0, 0, 0, 0.15);\n",
              "      filter: drop-shadow(0px 1px 2px rgba(0, 0, 0, 0.3));\n",
              "      fill: #FFFFFF;\n",
              "    }\n",
              "  </style>\n",
              "\n",
              "      <script>\n",
              "        const buttonEl =\n",
              "          document.querySelector('#df-ff4e80cd-94e0-4052-893b-9eaae92284e1 button.colab-df-convert');\n",
              "        buttonEl.style.display =\n",
              "          google.colab.kernel.accessAllowed ? 'block' : 'none';\n",
              "\n",
              "        async function convertToInteractive(key) {\n",
              "          const element = document.querySelector('#df-ff4e80cd-94e0-4052-893b-9eaae92284e1');\n",
              "          const dataTable =\n",
              "            await google.colab.kernel.invokeFunction('convertToInteractive',\n",
              "                                                     [key], {});\n",
              "          if (!dataTable) return;\n",
              "\n",
              "          const docLinkHtml = 'Like what you see? Visit the ' +\n",
              "            '<a target=\"_blank\" href=https://colab.research.google.com/notebooks/data_table.ipynb>data table notebook</a>'\n",
              "            + ' to learn more about interactive tables.';\n",
              "          element.innerHTML = '';\n",
              "          dataTable['output_type'] = 'display_data';\n",
              "          await google.colab.output.renderOutput(dataTable, element);\n",
              "          const docLink = document.createElement('div');\n",
              "          docLink.innerHTML = docLinkHtml;\n",
              "          element.appendChild(docLink);\n",
              "        }\n",
              "      </script>\n",
              "    </div>\n",
              "  </div>\n",
              "  "
            ]
          },
          "metadata": {},
          "execution_count": 12
        }
      ],
      "source": [
        "rating.groupby(['userId', 'movieId']).count()"
      ]
    },
    {
      "cell_type": "code",
      "execution_count": 13,
      "metadata": {
        "id": "d1E2i5rZvOOI",
        "colab": {
          "base_uri": "https://localhost:8080/"
        },
        "outputId": "c38f52db-4956-417e-a161-7f19584fc1f2"
      },
      "outputs": [
        {
          "output_type": "execute_result",
          "data": {
            "text/plain": [
              "100004"
            ]
          },
          "metadata": {},
          "execution_count": 13
        }
      ],
      "source": [
        "rating.groupby(['userId', 'movieId']).count()['rating'].sum()"
      ]
    },
    {
      "cell_type": "markdown",
      "metadata": {
        "id": "ynCEs7q3vOOI"
      },
      "source": [
        "**Write your Answer here: No, as there is no rating <1, additionally the sum of total ratings is equal to the number of user interactions. if a user had interacted twice, the total sum would be greater by +n**"
      ]
    },
    {
      "cell_type": "markdown",
      "metadata": {
        "id": "JQgjqRnevOOI"
      },
      "source": [
        "### **Q 1.5 Which is the most interacted movie in the dataset? (1 Mark)**"
      ]
    },
    {
      "cell_type": "code",
      "execution_count": 14,
      "metadata": {
        "id": "4LBbXdoDvOOI",
        "colab": {
          "base_uri": "https://localhost:8080/"
        },
        "outputId": "73652d60-b8d0-481f-fa00-fe9d40ee495b"
      },
      "outputs": [
        {
          "output_type": "execute_result",
          "data": {
            "text/plain": [
              "356"
            ]
          },
          "metadata": {},
          "execution_count": 14
        }
      ],
      "source": [
        "# Remove _______ and complete the code\n",
        "rating['movieId'].value_counts().idxmax()"
      ]
    },
    {
      "cell_type": "markdown",
      "metadata": {
        "id": "PSo-c_XAvOOI"
      },
      "source": [
        "**Write your Answer here: the most interacted movie has ID 356**"
      ]
    },
    {
      "cell_type": "code",
      "execution_count": 15,
      "metadata": {
        "id": "fVkc1FK22N9r",
        "colab": {
          "base_uri": "https://localhost:8080/",
          "height": 627
        },
        "outputId": "b20beffd-31db-461c-ba8f-89d3f79b052d"
      },
      "outputs": [
        {
          "output_type": "display_data",
          "data": {
            "text/plain": [
              "<Figure size 700x700 with 1 Axes>"
            ],
            "image/png": "[encoded data removed]"
          },
          "metadata": {}
        }
      ],
      "source": [
        "# Plotting distributions of ratings for 341 interactions with movieid 356 \n",
        "plt.figure(figsize=(7,7))\n",
        "\n",
        "rating[rating['movieId'] == 356]['rating'].value_counts().plot(kind='bar')\n",
        "\n",
        "plt.xlabel('Rating')\n",
        "\n",
        "plt.ylabel('Count')\n",
        "\n",
        "plt.show()"
      ]
    },
    {
      "cell_type": "markdown",
      "metadata": {
        "id": "0pQn17ro2N9s"
      },
      "source": [
        "**Write your Answer here: Table plotted.**"
      ]
    },
    {
      "cell_type": "markdown",
      "metadata": {
        "id": "0kXJ_iTEvOOI"
      },
      "source": [
        "### **Q 1.6 Which user interacted the most with any movie in the dataset? (1 Mark)**"
      ]
    },
    {
      "cell_type": "code",
      "execution_count": 16,
      "metadata": {
        "id": "t7ehlMLDvOOI",
        "colab": {
          "base_uri": "https://localhost:8080/"
        },
        "outputId": "88538b49-8e63-4f27-80a9-921fad9d77b3"
      },
      "outputs": [
        {
          "output_type": "execute_result",
          "data": {
            "text/plain": [
              "547"
            ]
          },
          "metadata": {},
          "execution_count": 16
        }
      ],
      "source": [
        "rating['userId'].value_counts().idxmax()"
      ]
    },
    {
      "cell_type": "markdown",
      "metadata": {
        "id": "W-Sdna2ovOOI"
      },
      "source": [
        "**Write your Answer here: User 547 had the most interactions**"
      ]
    },
    {
      "cell_type": "markdown",
      "metadata": {
        "id": "lHReghdivOOI"
      },
      "source": [
        "### **Q 1.7 What is the distribution of the user-movie interactions in this dataset? (1 Mark)**"
      ]
    },
    {
      "cell_type": "code",
      "execution_count": 17,
      "metadata": {
        "id": "0XArWJ7l2N9v",
        "colab": {
          "base_uri": "https://localhost:8080/"
        },
        "outputId": "9dbd12b8-3b23-4076-975c-e015251898db"
      },
      "outputs": [
        {
          "output_type": "execute_result",
          "data": {
            "text/plain": [
              "userId\n",
              "1       20\n",
              "2       76\n",
              "3       51\n",
              "4      204\n",
              "5      100\n",
              "      ... \n",
              "667     68\n",
              "668     20\n",
              "669     37\n",
              "670     31\n",
              "671    115\n",
              "Name: movieId, Length: 671, dtype: int64"
            ]
          },
          "metadata": {},
          "execution_count": 17
        }
      ],
      "source": [
        "# Finding user-movie interactions distribution\n",
        "count_interactions = rating.groupby('userId').count()['movieId']\n",
        "count_interactions"
      ]
    },
    {
      "cell_type": "code",
      "execution_count": 18,
      "metadata": {
        "id": "JoNCRm88vOOI",
        "colab": {
          "base_uri": "https://localhost:8080/",
          "height": 538
        },
        "outputId": "d7a85628-d82c-4808-c9bf-ecc65e9b102e"
      },
      "outputs": [
        {
          "output_type": "display_data",
          "data": {
            "text/plain": [
              "<Figure size 1500x700 with 1 Axes>"
            ],
            "image/png": "[encoded data removed]"
          },
          "metadata": {}
        }
      ],
      "source": [
        "# Plotting user-movie interactions distribution\n",
        "\n",
        "plt.figure(figsize=(15,7))\n",
        "\n",
        "sns.histplot(data=count_interactions)\n",
        "\n",
        "plt.xlabel('Number of Interactions by Users')\n",
        "\n",
        "plt.show()"
      ]
    },
    {
      "cell_type": "markdown",
      "metadata": {
        "id": "vmj5nPiN2N9w"
      },
      "source": [
        "**Write your Answer here: The plot shows the distribution of user-movie interactions in the dataset.**"
      ]
    },
    {
      "cell_type": "markdown",
      "metadata": {
        "id": "knK9ML0bwIBR"
      },
      "source": [
        "#### As we have now explored the data, let's start building Recommendation systems\n",
        "\n",
        "## **Question 2: Create Rank-Based Recommendation System (3 Marks)**"
      ]
    },
    {
      "cell_type": "markdown",
      "metadata": {
        "id": "CqFN5jDJvOOJ"
      },
      "source": [
        "### **Model 1: Rank-Based Recommendation System**"
      ]
    },
    {
      "cell_type": "markdown",
      "metadata": {
        "id": "W26vIRn1vOOJ"
      },
      "source": [
        "Rank-based recommendation systems provide recommendations based on the most popular items. This kind of recommendation system is useful when we have **cold start** problems. Cold start refers to the issue when we get a new user into the system and the machine is not able to recommend movies to the new user, as the user did not have any historical interactions in the dataset. In those cases, we can use rank-based recommendation system to recommend movies to the new user."
      ]
    },
    {
      "cell_type": "markdown",
      "metadata": {
        "id": "I3t4uyGlvOOK"
      },
      "source": [
        "To build the rank-based recommendation system, we take **average** of all the ratings provided to each movie and then rank them based on their average rating."
      ]
    },
    {
      "cell_type": "code",
      "execution_count": 19,
      "metadata": {
        "id": "xuMR3XFIvOOK"
      },
      "outputs": [],
      "source": [
        "# Calculating average ratings\n",
        "average_rating = rating.groupby('movieId')['rating'].mean()\n",
        "\n",
        "# Calculating the count of ratings\n",
        "count_rating = rating.groupby('movieId')['rating'].count()\n",
        "\n",
        "# Making a dataframe with the count and average of ratings\n",
        "final_rating = pd.DataFrame({'avg_rating':average_rating, 'rating_count':count_rating})"
      ]
    },
    {
      "cell_type": "code",
      "execution_count": 20,
      "metadata": {
        "id": "J6NLX6FIvOOK",
        "colab": {
          "base_uri": "https://localhost:8080/",
          "height": 238
        },
        "outputId": "da50b079-921d-43f8-e463-0ab979dc5a49"
      },
      "outputs": [
        {
          "output_type": "execute_result",
          "data": {
            "text/plain": [
              "         avg_rating  rating_count\n",
              "movieId                          \n",
              "1          3.872470           247\n",
              "2          3.401869           107\n",
              "3          3.161017            59\n",
              "4          2.384615            13\n",
              "5          3.267857            56"
            ],
            "text/html": [
              "\n",
              "  <div id=\"df-ab51fcf2-d9d0-45ad-8d79-87838a378e90\">\n",
              "    <div class=\"colab-df-container\">\n",
              "      <div>\n",
              "<style scoped>\n",
              "    .dataframe tbody tr th:only-of-type {\n",
              "        vertical-align: middle;\n",
              "    }\n",
              "\n",
              "    .dataframe tbody tr th {\n",
              "        vertical-align: top;\n",
              "    }\n",
              "\n",
              "    .dataframe thead th {\n",
              "        text-align: right;\n",
              "    }\n",
              "</style>\n",
              "<table border=\"1\" class=\"dataframe\">\n",
              "  <thead>\n",
              "    <tr style=\"text-align: right;\">\n",
              "      <th></th>\n",
              "      <th>avg_rating</th>\n",
              "      <th>rating_count</th>\n",
              "    </tr>\n",
              "    <tr>\n",
              "      <th>movieId</th>\n",
              "      <th></th>\n",
              "      <th></th>\n",
              "    </tr>\n",
              "  </thead>\n",
              "  <tbody>\n",
              "    <tr>\n",
              "      <th>1</th>\n",
              "      <td>3.872470</td>\n",
              "      <td>247</td>\n",
              "    </tr>\n",
              "    <tr>\n",
              "      <th>2</th>\n",
              "      <td>3.401869</td>\n",
              "      <td>107</td>\n",
              "    </tr>\n",
              "    <tr>\n",
              "      <th>3</th>\n",
              "      <td>3.161017</td>\n",
              "      <td>59</td>\n",
              "    </tr>\n",
              "    <tr>\n",
              "      <th>4</th>\n",
              "      <td>2.384615</td>\n",
              "      <td>13</td>\n",
              "    </tr>\n",
              "    <tr>\n",
              "      <th>5</th>\n",
              "      <td>3.267857</td>\n",
              "      <td>56</td>\n",
              "    </tr>\n",
              "  </tbody>\n",
              "</table>\n",
              "</div>\n",
              "      <button class=\"colab-df-convert\" onclick=\"convertToInteractive('df-ab51fcf2-d9d0-45ad-8d79-87838a378e90')\"\n",
              "              title=\"Convert this dataframe to an interactive table.\"\n",
              "              style=\"display:none;\">\n",
              "        \n",
              "  <svg xmlns=\"http://www.w3.org/2000/svg\" height=\"24px\"viewBox=\"0 0 24 24\"\n",
              "       width=\"24px\">\n",
              "    <path d=\"M0 0h24v24H0V0z\" fill=\"none\"/>\n",
              "    <path d=\"M18.56 5.44l.94 2.06.94-2.06 2.06-.94-2.06-.94-.94-2.06-.94 2.06-2.06.94zm-11 1L8.5 8.5l.94-2.06 2.06-.94-2.06-.94L8.5 2.5l-.94 2.06-2.06.94zm10 10l.94 2.06.94-2.06 2.06-.94-2.06-.94-.94-2.06-.94 2.06-2.06.94z\"/><path d=\"M17.41 7.96l-1.37-1.37c-.4-.4-.92-.59-1.43-.59-.52 0-1.04.2-1.43.59L10.3 9.45l-7.72 7.72c-.78.78-.78 2.05 0 2.83L4 21.41c.39.39.9.59 1.41.59.51 0 1.02-.2 1.41-.59l7.78-7.78 2.81-2.81c.8-.78.8-2.07 0-2.86zM5.41 20L4 18.59l7.72-7.72 1.47 1.35L5.41 20z\"/>\n",
              "  </svg>\n",
              "      </button>\n",
              "      \n",
              "  <style>\n",
              "    .colab-df-container {\n",
              "      display:flex;\n",
              "      flex-wrap:wrap;\n",
              "      gap: 12px;\n",
              "    }\n",
              "\n",
              "    .colab-df-convert {\n",
              "      background-color: #E8F0FE;\n",
              "      border: none;\n",
              "      border-radius: 50%;\n",
              "      cursor: pointer;\n",
              "      display: none;\n",
              "      fill: #1967D2;\n",
              "      height: 32px;\n",
              "      padding: 0 0 0 0;\n",
              "      width: 32px;\n",
              "    }\n",
              "\n",
              "    .colab-df-convert:hover {\n",
              "      background-color: #E2EBFA;\n",
              "      box-shadow: 0px 1px 2px rgba(60, 64, 67, 0.3), 0px 1px 3px 1px rgba(60, 64, 67, 0.15);\n",
              "      fill: #174EA6;\n",
              "    }\n",
              "\n",
              "    [theme=dark] .colab-df-convert {\n",
              "      background-color: #3B4455;\n",
              "      fill: #D2E3FC;\n",
              "    }\n",
              "\n",
              "    [theme=dark] .colab-df-convert:hover {\n",
              "      background-color: #434B5C;\n",
              "      box-shadow: 0px 1px 3px 1px rgba(0, 0, 0, 0.15);\n",
              "      filter: drop-shadow(0px 1px 2px rgba(0, 0, 0, 0.3));\n",
              "      fill: #FFFFFF;\n",
              "    }\n",
              "  </style>\n",
              "\n",
              "      <script>\n",
              "        const buttonEl =\n",
              "          document.querySelector('#df-ab51fcf2-d9d0-45ad-8d79-87838a378e90 button.colab-df-convert');\n",
              "        buttonEl.style.display =\n",
              "          google.colab.kernel.accessAllowed ? 'block' : 'none';\n",
              "\n",
              "        async function convertToInteractive(key) {\n",
              "          const element = document.querySelector('#df-ab51fcf2-d9d0-45ad-8d79-87838a378e90');\n",
              "          const dataTable =\n",
              "            await google.colab.kernel.invokeFunction('convertToInteractive',\n",
              "                                                     [key], {});\n",
              "          if (!dataTable) return;\n",
              "\n",
              "          const docLinkHtml = 'Like what you see? Visit the ' +\n",
              "            '<a target=\"_blank\" href=https://colab.research.google.com/notebooks/data_table.ipynb>data table notebook</a>'\n",
              "            + ' to learn more about interactive tables.';\n",
              "          element.innerHTML = '';\n",
              "          dataTable['output_type'] = 'display_data';\n",
              "          await google.colab.output.renderOutput(dataTable, element);\n",
              "          const docLink = document.createElement('div');\n",
              "          docLink.innerHTML = docLinkHtml;\n",
              "          element.appendChild(docLink);\n",
              "        }\n",
              "      </script>\n",
              "    </div>\n",
              "  </div>\n",
              "  "
            ]
          },
          "metadata": {},
          "execution_count": 20
        }
      ],
      "source": [
        "final_rating.head()"
      ]
    },
    {
      "cell_type": "markdown",
      "metadata": {
        "id": "Pv31nHm_2N9y"
      },
      "source": [
        "Now, let's create a function to find the **top n movies** for a recommendation based on the average ratings of movies. We can also add a **threshold for a minimum number of interactions** for a movie to be considered for recommendation. "
      ]
    },
    {
      "cell_type": "code",
      "execution_count": 21,
      "metadata": {
        "id": "Fy0SbxnevOOK"
      },
      "outputs": [],
      "source": [
        "def top_n_movies(data, n, min_interaction=100):\n",
        "    \n",
        "    #Finding movies with minimum number of interactions\n",
        "    recommendations = data[data['rating_count'] >= min_interaction]\n",
        "    \n",
        "    #Sorting values w.r.t average rating \n",
        "    recommendations = recommendations.sort_values(by='avg_rating', ascending=False)\n",
        "    \n",
        "    return recommendations.index[:n]"
      ]
    },
    {
      "cell_type": "markdown",
      "metadata": {
        "id": "fi9vhL4Z2N9y"
      },
      "source": [
        "We can **use this function with different n's and minimum interactions** to get movies to recommend"
      ]
    },
    {
      "cell_type": "markdown",
      "metadata": {
        "id": "hkz4LlTpvOOK"
      },
      "source": [
        "#### **Recommending top 5 movies with 50 minimum interactions based on popularity**"
      ]
    },
    {
      "cell_type": "code",
      "execution_count": 22,
      "metadata": {
        "id": "u-JX_ES9vOOK",
        "colab": {
          "base_uri": "https://localhost:8080/"
        },
        "outputId": "86cfacff-f694-458b-dc89-e4328b1b8841"
      },
      "outputs": [
        {
          "output_type": "execute_result",
          "data": {
            "text/plain": [
              "[858, 318, 969, 913, 1221]"
            ]
          },
          "metadata": {},
          "execution_count": 22
        }
      ],
      "source": [
        "# Recommending top 5 movies with 50 minimum interactions based on popularity\n",
        "list(top_n_movies(final_rating, n=5, min_interaction=50))"
      ]
    },
    {
      "cell_type": "markdown",
      "metadata": {
        "id": "KRFTrsBVvOOK"
      },
      "source": [
        "#### **Recommending top 5 movies with 100 minimum interactions based on popularity**"
      ]
    },
    {
      "cell_type": "code",
      "execution_count": 23,
      "metadata": {
        "id": "U2wvxF2rvOOK",
        "colab": {
          "base_uri": "https://localhost:8080/"
        },
        "outputId": "b20453e9-260a-4e7c-9299-b473ffb60948"
      },
      "outputs": [
        {
          "output_type": "execute_result",
          "data": {
            "text/plain": [
              "[858, 318, 1221, 50, 527]"
            ]
          },
          "metadata": {},
          "execution_count": 23
        }
      ],
      "source": [
        "list(top_n_movies(final_rating, n=5, min_interaction=100))"
      ]
    },
    {
      "cell_type": "markdown",
      "metadata": {
        "id": "_3SW8bLkvOOK"
      },
      "source": [
        "#### **Recommending top 5 movies with 200 minimum interactions based on popularity**"
      ]
    },
    {
      "cell_type": "code",
      "execution_count": 24,
      "metadata": {
        "id": "t6ziQvDgvOOK",
        "colab": {
          "base_uri": "https://localhost:8080/"
        },
        "outputId": "41dc445c-36b5-43df-e0a1-a3b96d208865"
      },
      "outputs": [
        {
          "output_type": "execute_result",
          "data": {
            "text/plain": [
              "[858, 318, 50, 527, 608]"
            ]
          },
          "metadata": {},
          "execution_count": 24
        }
      ],
      "source": [
        "list(top_n_movies(final_rating, n=5, min_interaction=200))"
      ]
    },
    {
      "cell_type": "markdown",
      "metadata": {
        "id": "r4vrsunx2N91"
      },
      "source": [
        "Now that we have seen **how to apply the Rank-Based Recommendation System**, let's apply the **Collaborative Filtering Based Recommendation Systems**."
      ]
    },
    {
      "cell_type": "markdown",
      "metadata": {
        "id": "sJI5kiiGvOOK"
      },
      "source": [
        "## **Model 2: User based Collaborative Filtering Recommendation System (7 Marks)**"
      ]
    },
    {
      "cell_type": "markdown",
      "metadata": {
        "id": "wVjPUvj82N92"
      },
      "source": [
        "![collaborative_filtering.PNG](https://raw.githubusercontent.com/GL-ACADOPS/RS-IMAGES/main/collaborative_filtering.PNG)"
      ]
    },
    {
      "cell_type": "markdown",
      "metadata": {
        "id": "H4yaWX37vOOK"
      },
      "source": [
        "In the above **interactions matrix**, out of users B and C, which user is most likely to interact with the movie, \"The Terminal\"?"
      ]
    },
    {
      "cell_type": "markdown",
      "metadata": {
        "id": "QoSujZuuvOOK"
      },
      "source": [
        "In this type of recommendation system, `we do not need any information` about the users or items. We only need user item interaction data to build a collaborative recommendation system. For example - \n",
        "<ol>\n",
        "    <li><b>Ratings</b> provided by users. For example - ratings of books on goodread, movie ratings on imdb etc</li>\n",
        "    <li><b>Likes</b> of users on different facebook posts, likes on youtube videos</li>\n",
        "    <li><b>Use/buying</b> of a product by users. For example - buying different items on e-commerce sites</li>\n",
        "    <li><b>Reading</b> of articles by readers on various blogs</li>\n",
        "</ol>"
      ]
    },
    {
      "cell_type": "markdown",
      "metadata": {
        "id": "A_3GtPzuvOOK"
      },
      "source": [
        "**Types of Collaborative Filtering**"
      ]
    },
    {
      "cell_type": "markdown",
      "metadata": {
        "id": "igZX3WbqvOOK"
      },
      "source": [
        "- Similarity/Neighborhood based\n",
        "\n",
        " * User-User Similarity Based  \n",
        " * Item-Item similarity based\n",
        "\n",
        "- Model based"
      ]
    },
    {
      "cell_type": "markdown",
      "metadata": {
        "id": "0D3MuFHqvOOK"
      },
      "source": [
        "#### **Building Similarity/Neighborhood based Collaborative Filtering**"
      ]
    },
    {
      "cell_type": "markdown",
      "metadata": {
        "id": "vyCEv8eJvOOK"
      },
      "source": [
        "![test_image](https://raw.githubusercontent.com/GL-ACADOPS/RS-IMAGES/main/cosine.PNG)"
      ]
    },
    {
      "cell_type": "markdown",
      "metadata": {
        "id": "skzc0N1_nVNB"
      },
      "source": [
        "### **Building a baseline user-user similarity based recommendation system**"
      ]
    },
    {
      "cell_type": "markdown",
      "metadata": {
        "id": "d4Uo_MYMnVNB"
      },
      "source": [
        "- Below, we are building **similarity-based recommendation systems** using `cosine` similarity and using **KNN to find similar users** which are the nearest neighbor to the given user.  \n",
        "- We will be using a new library, called `surprise`, to build the remaining models. Let's first import the necessary classes and functions from this library."
      ]
    },
    {
      "cell_type": "markdown",
      "metadata": {
        "id": "8hxjJMTwnVNB"
      },
      "source": [
        "Below we are loading the **`rating` dataset**, which is a **pandas DataFrame**, into a **different format called `surprise.dataset.DatasetAutoFolds`**, which is required by this library. To do this, we will be **using the classes `Reader` and `Dataset`**. Finally splitting the data into train and test set."
      ]
    },
    {
      "cell_type": "markdown",
      "metadata": {
        "id": "n3PpFZlW0q_d"
      },
      "source": [
        "#### **Making the dataset into surprise dataset and splitting it into train and test set**"
      ]
    },
    {
      "cell_type": "code",
      "execution_count": 25,
      "metadata": {
        "id": "rGfYDiOCpe4X"
      },
      "outputs": [],
      "source": [
        "# Instantiating Reader scale with expected rating scale\n",
        "reader = Reader(rating_scale=(0, 5))\n",
        "\n",
        "# Loading the rating dataset\n",
        "data = Dataset.load_from_df(rating[['userId', 'movieId', 'rating']], reader)\n",
        "\n",
        "# Splitting the data into train and test dataset\n",
        "trainset, testset = train_test_split(data, test_size=0.2, random_state=42)"
      ]
    },
    {
      "cell_type": "markdown",
      "metadata": {
        "id": "DmHTEt7TnVNC"
      },
      "source": [
        "#### **Build the first baseline similarity based recommendation system using cosine similarity and KNN**"
      ]
    },
    {
      "cell_type": "code",
      "execution_count": 26,
      "metadata": {
        "id": "vO3FL7iape8A",
        "colab": {
          "base_uri": "https://localhost:8080/"
        },
        "outputId": "6c942b50-f90f-4783-957a-3adc7e0769f2"
      },
      "outputs": [
        {
          "output_type": "stream",
          "name": "stdout",
          "text": [
            "Computing the cosine similarity matrix...\n",
            "Done computing similarity matrix.\n",
            "RMSE: 0.9925\n"
          ]
        },
        {
          "output_type": "execute_result",
          "data": {
            "text/plain": [
              "0.9924509041520163"
            ]
          },
          "metadata": {},
          "execution_count": 26
        }
      ],
      "source": [
        "# Defining Nearest Neighbour algorithm\n",
        "algo_knn_user = KNNBasic(sim_options={'name': 'cosine', 'user_based': True})\n",
        "\n",
        "# Train the algorithm on the trainset\n",
        "algo_knn_user.fit(trainset)\n",
        "\n",
        "# Predict ratings for the testset\n",
        "predictions = algo_knn_user.test(testset)\n",
        "\n",
        "# Compute RMSE\n",
        "accuracy.rmse(predictions)"
      ]
    },
    {
      "cell_type": "markdown",
      "metadata": {
        "id": "6y7zChf8wIBr"
      },
      "source": [
        "### **Q 3.1 What is the RMSE for baseline user based collaborative filtering recommendation system? (1 Mark)**"
      ]
    },
    {
      "cell_type": "markdown",
      "metadata": {
        "id": "yE5kvdZenVNC"
      },
      "source": [
        "**Write your Answer here: 0.9925 rounded**"
      ]
    },
    {
      "cell_type": "markdown",
      "metadata": {
        "id": "qelE7GyrwIBs"
      },
      "source": [
        "### **Q 3.2 What is the Predicted  rating for an user with userId=4 and for movieId=10 and movieId=3? (1 Mark)**"
      ]
    },
    {
      "cell_type": "markdown",
      "metadata": {
        "id": "reFD0-nsnVNC"
      },
      "source": [
        "Let's us now predict rating for an user with `userId=4` and for `movieId=10`"
      ]
    },
    {
      "cell_type": "code",
      "execution_count": 27,
      "metadata": {
        "id": "Sxd23bZ9pe_x",
        "colab": {
          "base_uri": "https://localhost:8080/"
        },
        "outputId": "4b10d7eb-4eb3-443a-ca7a-db42ca4dc3ea"
      },
      "outputs": [
        {
          "output_type": "stream",
          "name": "stdout",
          "text": [
            "user: 4          item: 10         r_ui = 4.00   est = 3.62   {'actual_k': 40, 'was_impossible': False}\n"
          ]
        },
        {
          "output_type": "execute_result",
          "data": {
            "text/plain": [
              "Prediction(uid=4, iid=10, r_ui=4, est=3.6244912065910952, details={'actual_k': 40, 'was_impossible': False})"
            ]
          },
          "metadata": {},
          "execution_count": 27
        }
      ],
      "source": [
        "algo_knn_user.predict(4, 10, r_ui=4, verbose=True)"
      ]
    },
    {
      "cell_type": "markdown",
      "metadata": {
        "id": "QuVbIR3SnVNE"
      },
      "source": [
        "**Write your Answer here: estimated rating 3.62**"
      ]
    },
    {
      "cell_type": "markdown",
      "metadata": {
        "id": "EXSgq8OEnVNE"
      },
      "source": [
        "Let's predict the rating for the same `userId=4` but for a movie which this user has not interacted before i.e. `movieId=3`"
      ]
    },
    {
      "cell_type": "code",
      "execution_count": 28,
      "metadata": {
        "id": "PbFcBj1PpfEV",
        "colab": {
          "base_uri": "https://localhost:8080/"
        },
        "outputId": "9b6b7838-a7eb-413f-b62c-6e2b982ade6b"
      },
      "outputs": [
        {
          "output_type": "stream",
          "name": "stdout",
          "text": [
            "user: 4          item: 3          r_ui = None   est = 3.20   {'actual_k': 40, 'was_impossible': False}\n"
          ]
        },
        {
          "output_type": "execute_result",
          "data": {
            "text/plain": [
              "Prediction(uid=4, iid=3, r_ui=None, est=3.202703552548654, details={'actual_k': 40, 'was_impossible': False})"
            ]
          },
          "metadata": {},
          "execution_count": 28
        }
      ],
      "source": [
        "algo_knn_user.predict(4, 3, verbose=True)"
      ]
    },
    {
      "cell_type": "markdown",
      "metadata": {
        "id": "cm2xqtcQnVNE"
      },
      "source": [
        "**Write your Answer here: estimated rating 3.2**"
      ]
    },
    {
      "cell_type": "markdown",
      "metadata": {
        "id": "ejjof6csnVNF"
      },
      "source": [
        "### **Improving user-user similarity based recommendation system by tuning its hyper-parameters**"
      ]
    },
    {
      "cell_type": "markdown",
      "metadata": {
        "id": "x_kxe-_JnVNF"
      },
      "source": [
        "Below we will be tuning hyper-parmeters for the `KNNBasic` algorithms. Let's try to understand different hyperparameters of KNNBasic algorithm - "
      ]
    },
    {
      "cell_type": "markdown",
      "metadata": {
        "id": "p2j4VvfQnVNF"
      },
      "source": [
        "- **k** (int) – The (max) number of neighbors to take into account for aggregation (see this note). Default is 40.\n",
        "- **min_k** (int) – The minimum number of neighbors to take into account for aggregation. If there are not enough neighbors, the prediction is set to the global mean of all ratings. Default is 1.\n",
        "- **sim_options** (dict) – A dictionary of options for the similarity measure. And there are four similarity measures available in surprise - \n",
        "    - cosine\n",
        "    - msd (default)\n",
        "    - pearson\n",
        "    - pearson baseline\n",
        "    \n",
        "For more details please refer the official documentation https://surprise.readthedocs.io/en/stable/knn_inspired.html"
      ]
    },
    {
      "cell_type": "markdown",
      "metadata": {
        "id": "lTLnYn_JwIBx"
      },
      "source": [
        "### **Q 3.3 Perform hyperparameter tuning for the baseline user based collaborative filtering recommendation system and find the RMSE for tuned user based collaborative filtering recommendation system? (3 Marks)**"
      ]
    },
    {
      "cell_type": "code",
      "execution_count": 29,
      "metadata": {
        "id": "KpGhU15gpfHg",
        "colab": {
          "base_uri": "https://localhost:8080/"
        },
        "outputId": "671ffd25-aa26-4926-e693-d3db3fb6cb19"
      },
      "outputs": [
        {
          "output_type": "stream",
          "name": "stdout",
          "text": [
            "1.0012454754725246\n",
            "{'k': 30, 'sim_options': {'name': 'cosine', 'user_based': True}}\n"
          ]
        }
      ],
      "source": [
        "# Setting up parameter grid to tune the hyperparameters\n",
        "param_grid = {'k': [10, 20, 30], 'sim_options': {'name': ['cosine', 'pearson'], 'user_based': [True]}}\n",
        "\n",
        "# Performing 3-fold cross-validation to tune the hyperparameters\n",
        "grid_obj = GridSearchCV(KNNBasic, param_grid, measures=['rmse', 'mae'], cv=3, n_jobs=-1)\n",
        "\n",
        "# Fitting the data\n",
        "grid_obj.fit(data)\n",
        "\n",
        "# Best RMSE score\n",
        "print(grid_obj.best_score['rmse'])\n",
        "\n",
        "# Combination of parameters that gave the best RMSE score\n",
        "print(grid_obj.best_params['rmse'])"
      ]
    },
    {
      "cell_type": "markdown",
      "metadata": {
        "id": "L2fHNvu7nVNF"
      },
      "source": [
        "Once the grid search is **complete**, we can get the **optimal values for each of those hyperparameters** as shown above."
      ]
    },
    {
      "cell_type": "markdown",
      "metadata": {
        "id": "h_K6yd6XnVNF"
      },
      "source": [
        "Below we are analysing evaluation metrics - RMSE and MAE at each and every split to analyze the impact of each value of hyperparameters"
      ]
    },
    {
      "cell_type": "code",
      "execution_count": 30,
      "metadata": {
        "id": "TzJxk_Z4q1A8",
        "colab": {
          "base_uri": "https://localhost:8080/",
          "height": 531
        },
        "outputId": "553a6df2-e752-49cc-c41b-bb9732cacf63"
      },
      "outputs": [
        {
          "output_type": "execute_result",
          "data": {
            "text/plain": [
              "   split0_test_rmse  split1_test_rmse  split2_test_rmse  mean_test_rmse  \\\n",
              "0          1.014371          1.017160          1.018282        1.016604   \n",
              "1          1.026160          1.024596          1.022409        1.024388   \n",
              "2          1.003083          1.003631          1.004929        1.003881   \n",
              "3          1.015448          1.014658          1.012551        1.014219   \n",
              "4          1.000532          1.000555          1.002649        1.001245   \n",
              "\n",
              "   std_test_rmse  rank_test_rmse  split0_test_mae  split1_test_mae  \\\n",
              "0       0.001645               5         0.782680         0.784360   \n",
              "1       0.001539               6         0.796534         0.793669   \n",
              "2       0.000774               2         0.774653         0.774228   \n",
              "3       0.001222               4         0.787350         0.784944   \n",
              "4       0.000993               1         0.773310         0.772776   \n",
              "\n",
              "   split2_test_mae  mean_test_mae  std_test_mae  rank_test_mae  mean_fit_time  \\\n",
              "0         0.784307       0.783782      0.000780              4       0.224751   \n",
              "1         0.791912       0.794038      0.001905              6       0.491729   \n",
              "2         0.773524       0.774135      0.000466              2       0.205898   \n",
              "3         0.783047       0.785114      0.001761              5       0.323391   \n",
              "4         0.772561       0.772882      0.000315              1       0.216971   \n",
              "\n",
              "   std_fit_time  mean_test_time  std_test_time  \\\n",
              "0      0.082371        2.258890       0.007488   \n",
              "1      0.134435        3.553670       0.925503   \n",
              "2      0.009940        2.682796       0.036758   \n",
              "3      0.028123        2.665779       0.050668   \n",
              "4      0.040758        4.468801       1.121387   \n",
              "\n",
              "                                              params  param_k  \\\n",
              "0  {'k': 10, 'sim_options': {'name': 'cosine', 'u...       10   \n",
              "1  {'k': 10, 'sim_options': {'name': 'pearson', '...       10   \n",
              "2  {'k': 20, 'sim_options': {'name': 'cosine', 'u...       20   \n",
              "3  {'k': 20, 'sim_options': {'name': 'pearson', '...       20   \n",
              "4  {'k': 30, 'sim_options': {'name': 'cosine', 'u...       30   \n",
              "\n",
              "                         param_sim_options  \n",
              "0   {'name': 'cosine', 'user_based': True}  \n",
              "1  {'name': 'pearson', 'user_based': True}  \n",
              "2   {'name': 'cosine', 'user_based': True}  \n",
              "3  {'name': 'pearson', 'user_based': True}  \n",
              "4   {'name': 'cosine', 'user_based': True}  "
            ],
            "text/html": [
              "\n",
              "  <div id=\"df-3257e704-9907-4252-b7be-39286951ba70\">\n",
              "    <div class=\"colab-df-container\">\n",
              "      <div>\n",
              "<style scoped>\n",
              "    .dataframe tbody tr th:only-of-type {\n",
              "        vertical-align: middle;\n",
              "    }\n",
              "\n",
              "    .dataframe tbody tr th {\n",
              "        vertical-align: top;\n",
              "    }\n",
              "\n",
              "    .dataframe thead th {\n",
              "        text-align: right;\n",
              "    }\n",
              "</style>\n",
              "<table border=\"1\" class=\"dataframe\">\n",
              "  <thead>\n",
              "    <tr style=\"text-align: right;\">\n",
              "      <th></th>\n",
              "      <th>split0_test_rmse</th>\n",
              "      <th>split1_test_rmse</th>\n",
              "      <th>split2_test_rmse</th>\n",
              "      <th>mean_test_rmse</th>\n",
              "      <th>std_test_rmse</th>\n",
              "      <th>rank_test_rmse</th>\n",
              "      <th>split0_test_mae</th>\n",
              "      <th>split1_test_mae</th>\n",
              "      <th>split2_test_mae</th>\n",
              "      <th>mean_test_mae</th>\n",
              "      <th>std_test_mae</th>\n",
              "      <th>rank_test_mae</th>\n",
              "      <th>mean_fit_time</th>\n",
              "      <th>std_fit_time</th>\n",
              "      <th>mean_test_time</th>\n",
              "      <th>std_test_time</th>\n",
              "      <th>params</th>\n",
              "      <th>param_k</th>\n",
              "      <th>param_sim_options</th>\n",
              "    </tr>\n",
              "  </thead>\n",
              "  <tbody>\n",
              "    <tr>\n",
              "      <th>0</th>\n",
              "      <td>1.014371</td>\n",
              "      <td>1.017160</td>\n",
              "      <td>1.018282</td>\n",
              "      <td>1.016604</td>\n",
              "      <td>0.001645</td>\n",
              "      <td>5</td>\n",
              "      <td>0.782680</td>\n",
              "      <td>0.784360</td>\n",
              "      <td>0.784307</td>\n",
              "      <td>0.783782</td>\n",
              "      <td>0.000780</td>\n",
              "      <td>4</td>\n",
              "      <td>0.224751</td>\n",
              "      <td>0.082371</td>\n",
              "      <td>2.258890</td>\n",
              "      <td>0.007488</td>\n",
              "      <td>{'k': 10, 'sim_options': {'name': 'cosine', 'u...</td>\n",
              "      <td>10</td>\n",
              "      <td>{'name': 'cosine', 'user_based': True}</td>\n",
              "    </tr>\n",
              "    <tr>\n",
              "      <th>1</th>\n",
              "      <td>1.026160</td>\n",
              "      <td>1.024596</td>\n",
              "      <td>1.022409</td>\n",
              "      <td>1.024388</td>\n",
              "      <td>0.001539</td>\n",
              "      <td>6</td>\n",
              "      <td>0.796534</td>\n",
              "      <td>0.793669</td>\n",
              "      <td>0.791912</td>\n",
              "      <td>0.794038</td>\n",
              "      <td>0.001905</td>\n",
              "      <td>6</td>\n",
              "      <td>0.491729</td>\n",
              "      <td>0.134435</td>\n",
              "      <td>3.553670</td>\n",
              "      <td>0.925503</td>\n",
              "      <td>{'k': 10, 'sim_options': {'name': 'pearson', '...</td>\n",
              "      <td>10</td>\n",
              "      <td>{'name': 'pearson', 'user_based': True}</td>\n",
              "    </tr>\n",
              "    <tr>\n",
              "      <th>2</th>\n",
              "      <td>1.003083</td>\n",
              "      <td>1.003631</td>\n",
              "      <td>1.004929</td>\n",
              "      <td>1.003881</td>\n",
              "      <td>0.000774</td>\n",
              "      <td>2</td>\n",
              "      <td>0.774653</td>\n",
              "      <td>0.774228</td>\n",
              "      <td>0.773524</td>\n",
              "      <td>0.774135</td>\n",
              "      <td>0.000466</td>\n",
              "      <td>2</td>\n",
              "      <td>0.205898</td>\n",
              "      <td>0.009940</td>\n",
              "      <td>2.682796</td>\n",
              "      <td>0.036758</td>\n",
              "      <td>{'k': 20, 'sim_options': {'name': 'cosine', 'u...</td>\n",
              "      <td>20</td>\n",
              "      <td>{'name': 'cosine', 'user_based': True}</td>\n",
              "    </tr>\n",
              "    <tr>\n",
              "      <th>3</th>\n",
              "      <td>1.015448</td>\n",
              "      <td>1.014658</td>\n",
              "      <td>1.012551</td>\n",
              "      <td>1.014219</td>\n",
              "      <td>0.001222</td>\n",
              "      <td>4</td>\n",
              "      <td>0.787350</td>\n",
              "      <td>0.784944</td>\n",
              "      <td>0.783047</td>\n",
              "      <td>0.785114</td>\n",
              "      <td>0.001761</td>\n",
              "      <td>5</td>\n",
              "      <td>0.323391</td>\n",
              "      <td>0.028123</td>\n",
              "      <td>2.665779</td>\n",
              "      <td>0.050668</td>\n",
              "      <td>{'k': 20, 'sim_options': {'name': 'pearson', '...</td>\n",
              "      <td>20</td>\n",
              "      <td>{'name': 'pearson', 'user_based': True}</td>\n",
              "    </tr>\n",
              "    <tr>\n",
              "      <th>4</th>\n",
              "      <td>1.000532</td>\n",
              "      <td>1.000555</td>\n",
              "      <td>1.002649</td>\n",
              "      <td>1.001245</td>\n",
              "      <td>0.000993</td>\n",
              "      <td>1</td>\n",
              "      <td>0.773310</td>\n",
              "      <td>0.772776</td>\n",
              "      <td>0.772561</td>\n",
              "      <td>0.772882</td>\n",
              "      <td>0.000315</td>\n",
              "      <td>1</td>\n",
              "      <td>0.216971</td>\n",
              "      <td>0.040758</td>\n",
              "      <td>4.468801</td>\n",
              "      <td>1.121387</td>\n",
              "      <td>{'k': 30, 'sim_options': {'name': 'cosine', 'u...</td>\n",
              "      <td>30</td>\n",
              "      <td>{'name': 'cosine', 'user_based': True}</td>\n",
              "    </tr>\n",
              "  </tbody>\n",
              "</table>\n",
              "</div>\n",
              "      <button class=\"colab-df-convert\" onclick=\"convertToInteractive('df-3257e704-9907-4252-b7be-39286951ba70')\"\n",
              "              title=\"Convert this dataframe to an interactive table.\"\n",
              "              style=\"display:none;\">\n",
              "        \n",
              "  <svg xmlns=\"http://www.w3.org/2000/svg\" height=\"24px\"viewBox=\"0 0 24 24\"\n",
              "       width=\"24px\">\n",
              "    <path d=\"M0 0h24v24H0V0z\" fill=\"none\"/>\n",
              "    <path d=\"M18.56 5.44l.94 2.06.94-2.06 2.06-.94-2.06-.94-.94-2.06-.94 2.06-2.06.94zm-11 1L8.5 8.5l.94-2.06 2.06-.94-2.06-.94L8.5 2.5l-.94 2.06-2.06.94zm10 10l.94 2.06.94-2.06 2.06-.94-2.06-.94-.94-2.06-.94 2.06-2.06.94z\"/><path d=\"M17.41 7.96l-1.37-1.37c-.4-.4-.92-.59-1.43-.59-.52 0-1.04.2-1.43.59L10.3 9.45l-7.72 7.72c-.78.78-.78 2.05 0 2.83L4 21.41c.39.39.9.59 1.41.59.51 0 1.02-.2 1.41-.59l7.78-7.78 2.81-2.81c.8-.78.8-2.07 0-2.86zM5.41 20L4 18.59l7.72-7.72 1.47 1.35L5.41 20z\"/>\n",
              "  </svg>\n",
              "      </button>\n",
              "      \n",
              "  <style>\n",
              "    .colab-df-container {\n",
              "      display:flex;\n",
              "      flex-wrap:wrap;\n",
              "      gap: 12px;\n",
              "    }\n",
              "\n",
              "    .colab-df-convert {\n",
              "      background-color: #E8F0FE;\n",
              "      border: none;\n",
              "      border-radius: 50%;\n",
              "      cursor: pointer;\n",
              "      display: none;\n",
              "      fill: #1967D2;\n",
              "      height: 32px;\n",
              "      padding: 0 0 0 0;\n",
              "      width: 32px;\n",
              "    }\n",
              "\n",
              "    .colab-df-convert:hover {\n",
              "      background-color: #E2EBFA;\n",
              "      box-shadow: 0px 1px 2px rgba(60, 64, 67, 0.3), 0px 1px 3px 1px rgba(60, 64, 67, 0.15);\n",
              "      fill: #174EA6;\n",
              "    }\n",
              "\n",
              "    [theme=dark] .colab-df-convert {\n",
              "      background-color: #3B4455;\n",
              "      fill: #D2E3FC;\n",
              "    }\n",
              "\n",
              "    [theme=dark] .colab-df-convert:hover {\n",
              "      background-color: #434B5C;\n",
              "      box-shadow: 0px 1px 3px 1px rgba(0, 0, 0, 0.15);\n",
              "      filter: drop-shadow(0px 1px 2px rgba(0, 0, 0, 0.3));\n",
              "      fill: #FFFFFF;\n",
              "    }\n",
              "  </style>\n",
              "\n",
              "      <script>\n",
              "        const buttonEl =\n",
              "          document.querySelector('#df-3257e704-9907-4252-b7be-39286951ba70 button.colab-df-convert');\n",
              "        buttonEl.style.display =\n",
              "          google.colab.kernel.accessAllowed ? 'block' : 'none';\n",
              "\n",
              "        async function convertToInteractive(key) {\n",
              "          const element = document.querySelector('#df-3257e704-9907-4252-b7be-39286951ba70');\n",
              "          const dataTable =\n",
              "            await google.colab.kernel.invokeFunction('convertToInteractive',\n",
              "                                                     [key], {});\n",
              "          if (!dataTable) return;\n",
              "\n",
              "          const docLinkHtml = 'Like what you see? Visit the ' +\n",
              "            '<a target=\"_blank\" href=https://colab.research.google.com/notebooks/data_table.ipynb>data table notebook</a>'\n",
              "            + ' to learn more about interactive tables.';\n",
              "          element.innerHTML = '';\n",
              "          dataTable['output_type'] = 'display_data';\n",
              "          await google.colab.output.renderOutput(dataTable, element);\n",
              "          const docLink = document.createElement('div');\n",
              "          docLink.innerHTML = docLinkHtml;\n",
              "          element.appendChild(docLink);\n",
              "        }\n",
              "      </script>\n",
              "    </div>\n",
              "  </div>\n",
              "  "
            ]
          },
          "metadata": {},
          "execution_count": 30
        }
      ],
      "source": [
        "results_df = pd.DataFrame.from_dict(grid_obj.cv_results)\n",
        "results_df.head()"
      ]
    },
    {
      "cell_type": "markdown",
      "metadata": {
        "id": "NHWgxu_YnVNG"
      },
      "source": [
        "Now, let's build the **final model by using tuned values of the hyperparameters**, which we received by using **grid search cross-validation**.\n",
        "\n"
      ]
    },
    {
      "cell_type": "code",
      "execution_count": 31,
      "metadata": {
        "id": "PujRJA8X_JEJ",
        "colab": {
          "base_uri": "https://localhost:8080/"
        },
        "outputId": "c3be73e5-d7a7-4745-8d74-e5011d063892"
      },
      "outputs": [
        {
          "output_type": "stream",
          "name": "stdout",
          "text": [
            "Computing the cosine similarity matrix...\n",
            "Done computing similarity matrix.\n"
          ]
        }
      ],
      "source": [
        "# Using the optimal similarity measure for user-user based collaborative filtering\n",
        "# Creating an instance of KNNBasic with optimal hyperparameter values\n",
        "similarity_algo_optimized_user = KNNBasic(k=30, sim_options={'name': 'cosine', 'user_based': True})\n",
        "\n",
        "# Training the algorithm on the trainset\n",
        "similarity_algo_optimized_user.fit(trainset)\n",
        "\n",
        "# Predicting ratings for the testset\n",
        "predictions = similarity_algo_optimized_user.test(testset)\n",
        "\n"
      ]
    },
    {
      "cell_type": "markdown",
      "metadata": {
        "id": "YA37vQ6qnVNG"
      },
      "source": [
        "**Write your Answer here:__________**"
      ]
    },
    {
      "cell_type": "markdown",
      "metadata": {
        "id": "3gZQybgVwIB1"
      },
      "source": [
        "### **Q 3.4 What is the Predicted rating for an user with userId =4 and for movieId= 10 and movieId=3 using tuned user based collaborative filtering? (1 Mark)**"
      ]
    },
    {
      "cell_type": "markdown",
      "metadata": {
        "id": "YhcAXK0CnVNG"
      },
      "source": [
        "Let's us now predict rating for an user with `userId=4` and for `movieId=10` with the optimized model"
      ]
    },
    {
      "cell_type": "code",
      "execution_count": 32,
      "metadata": {
        "id": "FgV63lHiq1TV",
        "colab": {
          "base_uri": "https://localhost:8080/"
        },
        "outputId": "0639edb5-18eb-41e8-fada-792ebd5eec0e"
      },
      "outputs": [
        {
          "output_type": "stream",
          "name": "stdout",
          "text": [
            "user: 4          item: 10         r_ui = 4.00   est = 3.58   {'actual_k': 30, 'was_impossible': False}\n"
          ]
        },
        {
          "output_type": "execute_result",
          "data": {
            "text/plain": [
              "Prediction(uid=4, iid=10, r_ui=4, est=3.5831198326831433, details={'actual_k': 30, 'was_impossible': False})"
            ]
          },
          "metadata": {},
          "execution_count": 32
        }
      ],
      "source": [
        "similarity_algo_optimized_user.predict(4,10, r_ui=4, verbose=True)"
      ]
    },
    {
      "cell_type": "markdown",
      "metadata": {
        "id": "AMBeqeUtnVNG"
      },
      "source": [
        "**Write your Answer here: Predicted rating 3.583**"
      ]
    },
    {
      "cell_type": "markdown",
      "metadata": {
        "id": "P1JLqz6mnVNH"
      },
      "source": [
        "Below we are predicting rating for the same `userId=4` but for a movie which this user has not interacted before i.e. `movieId=3`, by using the optimized model as shown below - "
      ]
    },
    {
      "cell_type": "code",
      "execution_count": 33,
      "metadata": {
        "id": "HXO2Ztjhq1bN",
        "colab": {
          "base_uri": "https://localhost:8080/"
        },
        "outputId": "6d231596-6988-478f-db3b-bc6ab57c2ae2"
      },
      "outputs": [
        {
          "output_type": "stream",
          "name": "stdout",
          "text": [
            "user: 4          item: 3          r_ui = None   est = 3.15   {'actual_k': 30, 'was_impossible': False}\n"
          ]
        },
        {
          "output_type": "execute_result",
          "data": {
            "text/plain": [
              "Prediction(uid=4, iid=3, r_ui=None, est=3.1545175225003788, details={'actual_k': 30, 'was_impossible': False})"
            ]
          },
          "metadata": {},
          "execution_count": 33
        }
      ],
      "source": [
        "similarity_algo_optimized_user.predict(4,3, verbose=True)"
      ]
    },
    {
      "cell_type": "markdown",
      "metadata": {
        "id": "PN_tYvepnVNH"
      },
      "source": [
        "**Write your Answer here: Predicted rating 3.155**"
      ]
    },
    {
      "cell_type": "markdown",
      "metadata": {
        "id": "o2QsfqhanVNH"
      },
      "source": [
        "### **Identifying similar users to a given user (nearest neighbors)**\n",
        "\n",
        "We can also find out the similar users to a given user or its nearest neighbors based on this KNNBasic algorithm. Below we are finding 5 most similar user to the `userId=4` based on the `msd` distance metric"
      ]
    },
    {
      "cell_type": "code",
      "execution_count": 34,
      "metadata": {
        "id": "evkmTb6P5HYO",
        "colab": {
          "base_uri": "https://localhost:8080/"
        },
        "outputId": "280bc4fb-ac63-4870-aefd-de27f48db0af"
      },
      "outputs": [
        {
          "output_type": "execute_result",
          "data": {
            "text/plain": [
              "[357, 220, 590, 491, 647]"
            ]
          },
          "metadata": {},
          "execution_count": 34
        }
      ],
      "source": [
        "similarity_algo_optimized_user.get_neighbors(4, k=5)"
      ]
    },
    {
      "cell_type": "markdown",
      "metadata": {
        "id": "Z0NsrX_anVNH"
      },
      "source": [
        "### **Implementing the recommendation algorithm based on optimized KNNBasic model**"
      ]
    },
    {
      "cell_type": "markdown",
      "metadata": {
        "id": "U3ESobDynVNI"
      },
      "source": [
        "Below we will be implementing a function where the input parameters are - \n",
        "\n",
        "- data: a rating dataset\n",
        "- user_id: an user id against which we want the recommendations\n",
        "- top_n: the number of movies we want to recommend\n",
        "- algo: the algorithm we want to use to predict the ratings"
      ]
    },
    {
      "cell_type": "code",
      "execution_count": 35,
      "metadata": {
        "id": "vW9V1Tk65HlY"
      },
      "outputs": [],
      "source": [
        "def get_recommendations(data, user_id, top_n, algo):\n",
        "    \n",
        "    # Creating an empty list to store the recommended movie ids\n",
        "    recommendations = []\n",
        "    \n",
        "    # Creating an user item interactions matrix \n",
        "    user_item_interactions_matrix = data.pivot(index='userId', columns='movieId', values='rating')\n",
        "    \n",
        "    # Extracting those movie ids which the user_id has not interacted yet\n",
        "    non_interacted_movies = user_item_interactions_matrix.loc[user_id][user_item_interactions_matrix.loc[user_id].isnull()].index.tolist()\n",
        "    \n",
        "    # Looping through each of the movie id which user_id has not interacted yet\n",
        "    for item_id in non_interacted_movies:\n",
        "        \n",
        "        # Predicting the ratings for those non interacted movie ids by this user\n",
        "        est = algo.predict(user_id, item_id).est\n",
        "        \n",
        "        # Appending the predicted ratings\n",
        "        recommendations.append((item_id, est))\n",
        "\n",
        "    # Sorting the predicted ratings in descending order\n",
        "    recommendations.sort(key=lambda x: x[1], reverse=True)\n",
        "\n",
        "    return recommendations[:top_n] # returing top n highest predicted rating movies for this user"
      ]
    },
    {
      "cell_type": "markdown",
      "metadata": {
        "id": "Oj_S7kh4nVNI"
      },
      "source": [
        "#### **Predicted top 5 movies for userId=4 with similarity based recommendation system**"
      ]
    },
    {
      "cell_type": "code",
      "execution_count": 36,
      "metadata": {
        "id": "qWbR85mI5Hrk"
      },
      "outputs": [],
      "source": [
        "recommendations = get_recommendations(rating,4,5,similarity_algo_optimized_user)"
      ]
    },
    {
      "cell_type": "markdown",
      "metadata": {
        "id": "33GchLEiwICA"
      },
      "source": [
        "### **Q 3.5 Predict the top 5 movies for userId=4 with similarity based recommendation system (1 Mark)**"
      ]
    },
    {
      "cell_type": "code",
      "execution_count": 37,
      "metadata": {
        "id": "b5WfIX0Z6_q2",
        "colab": {
          "base_uri": "https://localhost:8080/"
        },
        "outputId": "a28516cc-d3c2-4dbc-c9df-4622fcdc90ed"
      },
      "outputs": [
        {
          "output_type": "execute_result",
          "data": {
            "text/plain": [
              "[(53, 5), (183, 5), (301, 5), (309, 5), (363, 5)]"
            ]
          },
          "metadata": {},
          "execution_count": 37
        }
      ],
      "source": [
        "recommendations"
      ]
    },
    {
      "cell_type": "markdown",
      "metadata": {
        "id": "pqm4J6aQwICB"
      },
      "source": [
        "## **Model 3: Item based Collaborative Filtering Recommendation System (7 Marks)**"
      ]
    },
    {
      "cell_type": "code",
      "execution_count": 38,
      "metadata": {
        "id": "fa8W64l5wICB",
        "colab": {
          "base_uri": "https://localhost:8080/"
        },
        "outputId": "e452b550-2c0d-47ed-ad74-4b4051d92cff"
      },
      "outputs": [
        {
          "output_type": "stream",
          "name": "stdout",
          "text": [
            "RMSE: 1.0032\n"
          ]
        },
        {
          "output_type": "execute_result",
          "data": {
            "text/plain": [
              "1.003221450633729"
            ]
          },
          "metadata": {},
          "execution_count": 38
        }
      ],
      "source": [
        "# Defining similarity measure\n",
        "sim_options = {'name': 'cosine', 'user_based': False} \n",
        "\n",
        "# Defining Nearest neighbour algorithm\n",
        "algo_knn_item = KNNBasic(sim_options=sim_options,verbose=False)\n",
        "\n",
        "# Train the algorithm on the trainset or fitting the model on train dataset \n",
        "algo_knn_item.fit(trainset)\n",
        "\n",
        "# Predict ratings for the testset\n",
        "predictions = algo_knn_item.test(testset)\n",
        "\n",
        "# Then compute RMSE\n",
        "accuracy.rmse(predictions)"
      ]
    },
    {
      "cell_type": "markdown",
      "metadata": {
        "id": "oW6HXjoVwICC"
      },
      "source": [
        "### **Q 4.1 What is the RMSE for baseline item based collaborative filtering recommendation system ?(1 Mark)**"
      ]
    },
    {
      "cell_type": "markdown",
      "metadata": {
        "id": "dsagkpFDwICD"
      },
      "source": [
        "**Write your Answer here: 1.0032**\n",
        "\n"
      ]
    },
    {
      "cell_type": "markdown",
      "metadata": {
        "id": "uXRReHXt2UD8"
      },
      "source": [
        "Let's us now predict rating for an user with `userId=4` and for `movieId=10`"
      ]
    },
    {
      "cell_type": "markdown",
      "metadata": {
        "id": "egyW6VMYwICD"
      },
      "source": [
        "### **Q 4.2 What is the Predicted  rating for an user with userId =4 and for movieId= 10 and movieId=3? (1 Mark)**"
      ]
    },
    {
      "cell_type": "code",
      "execution_count": 39,
      "metadata": {
        "id": "RmzxmaDbwICE",
        "scrolled": true,
        "colab": {
          "base_uri": "https://localhost:8080/"
        },
        "outputId": "5580caff-1928-4e6c-8983-5530252f3b99"
      },
      "outputs": [
        {
          "output_type": "stream",
          "name": "stdout",
          "text": [
            "user: 4          item: 10         r_ui = 4.00   est = 4.37   {'actual_k': 40, 'was_impossible': False}\n"
          ]
        },
        {
          "output_type": "execute_result",
          "data": {
            "text/plain": [
              "Prediction(uid=4, iid=10, r_ui=4, est=4.373794871885004, details={'actual_k': 40, 'was_impossible': False})"
            ]
          },
          "metadata": {},
          "execution_count": 39
        }
      ],
      "source": [
        "algo_knn_item.predict(4,10, r_ui=4, verbose=True)"
      ]
    },
    {
      "cell_type": "markdown",
      "metadata": {
        "id": "fyPeJdK6wICF"
      },
      "source": [
        "**Write your Answer here: Predicted rating 4.37**\n"
      ]
    },
    {
      "cell_type": "markdown",
      "metadata": {
        "id": "CTSx7Wl5wICG"
      },
      "source": [
        "Let's predict  the rating for the same `userId=4` but for a movie which this user has not interacted before i.e. `movieId=3`"
      ]
    },
    {
      "cell_type": "code",
      "execution_count": 40,
      "metadata": {
        "id": "-l8G1XG5wICG",
        "colab": {
          "base_uri": "https://localhost:8080/"
        },
        "outputId": "df538aa5-5ffb-4416-a3cc-a50938f6eb10"
      },
      "outputs": [
        {
          "output_type": "stream",
          "name": "stdout",
          "text": [
            "user: 4          item: 3          r_ui = None   est = 4.07   {'actual_k': 40, 'was_impossible': False}\n"
          ]
        },
        {
          "output_type": "execute_result",
          "data": {
            "text/plain": [
              "Prediction(uid=4, iid=3, r_ui=None, est=4.071601862880049, details={'actual_k': 40, 'was_impossible': False})"
            ]
          },
          "metadata": {},
          "execution_count": 40
        }
      ],
      "source": [
        "algo_knn_item.predict(4,3, verbose=True)"
      ]
    },
    {
      "cell_type": "markdown",
      "metadata": {
        "id": "WKqI9IyhwICH"
      },
      "source": [
        "**Write your Answer here: Predicted rating 4.07**\n"
      ]
    },
    {
      "cell_type": "markdown",
      "metadata": {
        "id": "utHBZ67JwICI"
      },
      "source": [
        "### **Q 4.3 Perform hyperparameter tuning for the baseline item based collaborative filtering recommendation system and find the RMSE for tuned item based collaborative filtering recommendation system? (3 Marks)**"
      ]
    },
    {
      "cell_type": "code",
      "execution_count": 42,
      "metadata": {
        "id": "0ZmIvW--wICJ",
        "colab": {
          "base_uri": "https://localhost:8080/"
        },
        "outputId": "af0fbfc7-01f8-41e9-b2a4-923072efaece"
      },
      "outputs": [
        {
          "output_type": "stream",
          "name": "stdout",
          "text": [
            "1.0020014542969788\n",
            "{'k': 30, 'sim_options': {'name': 'cosine', 'user_based': False}}\n"
          ]
        }
      ],
      "source": [
        "# Setting up parameter grid to tune the hyperparameters\n",
        "param_grid = {'k': [10, 20, 30], 'sim_options': {'name': ['cosine'], 'user_based': [False]}}\n",
        "\n",
        "# Performing 3-fold cross validation to tune the hyperparameters\n",
        "grid_obj = GridSearchCV(KNNBasic, param_grid, measures=['rmse', 'mae'], cv=3, n_jobs=-1)\n",
        "\n",
        "# Fitting the data\n",
        "grid_obj.fit(data)\n",
        "\n",
        "# Best RMSE score\n",
        "print(grid_obj.best_score['rmse'])\n",
        "\n",
        "# Combination of parameters that gave the best RMSE score\n",
        "print(grid_obj.best_params['rmse'])"
      ]
    },
    {
      "cell_type": "markdown",
      "metadata": {
        "id": "_uAej6IMwICK"
      },
      "source": [
        "Once the **grid search** is complete, we can get the **optimal values for each of those hyperparameters as shown above**"
      ]
    },
    {
      "cell_type": "markdown",
      "metadata": {
        "id": "2W3LQWA9wICK"
      },
      "source": [
        "Below we are analysing evaluation metrics - RMSE and MAE at each and every split to analyze the impact of each value of hyperparameters"
      ]
    },
    {
      "cell_type": "code",
      "execution_count": 43,
      "metadata": {
        "id": "ITKMae3LwICL",
        "scrolled": false,
        "colab": {
          "base_uri": "https://localhost:8080/",
          "height": 364
        },
        "outputId": "15552453-cce1-4795-8c27-77c6398a0184"
      },
      "outputs": [
        {
          "output_type": "execute_result",
          "data": {
            "text/plain": [
              "   split0_test_rmse  split1_test_rmse  split2_test_rmse  mean_test_rmse  \\\n",
              "0          1.047091          1.041879          1.052965        1.047312   \n",
              "1          1.015611          1.010703          1.019377        1.015230   \n",
              "2          1.002349          0.998614          1.005042        1.002001   \n",
              "\n",
              "   std_test_rmse  rank_test_rmse  split0_test_mae  split1_test_mae  \\\n",
              "0       0.004529               3         0.818568         0.812157   \n",
              "1       0.003551               2         0.793737         0.785841   \n",
              "2       0.002636               1         0.782082         0.775522   \n",
              "\n",
              "   split2_test_mae  mean_test_mae  std_test_mae  rank_test_mae  mean_fit_time  \\\n",
              "0         0.820655       0.817127      0.003616              3       7.820532   \n",
              "1         0.793605       0.791061      0.003692              2       6.006800   \n",
              "2         0.781281       0.779628      0.002922              1       6.399054   \n",
              "\n",
              "   std_fit_time  mean_test_time  std_test_time  \\\n",
              "0      1.377687       11.968033       0.242643   \n",
              "1      0.488750       12.497449       0.422320   \n",
              "2      1.397708       11.916812       2.982195   \n",
              "\n",
              "                                              params  param_k  \\\n",
              "0  {'k': 10, 'sim_options': {'name': 'cosine', 'u...       10   \n",
              "1  {'k': 20, 'sim_options': {'name': 'cosine', 'u...       20   \n",
              "2  {'k': 30, 'sim_options': {'name': 'cosine', 'u...       30   \n",
              "\n",
              "                         param_sim_options  \n",
              "0  {'name': 'cosine', 'user_based': False}  \n",
              "1  {'name': 'cosine', 'user_based': False}  \n",
              "2  {'name': 'cosine', 'user_based': False}  "
            ],
            "text/html": [
              "\n",
              "  <div id=\"df-34b7e7e9-2fa8-437d-b513-8e24209e85b4\">\n",
              "    <div class=\"colab-df-container\">\n",
              "      <div>\n",
              "<style scoped>\n",
              "    .dataframe tbody tr th:only-of-type {\n",
              "        vertical-align: middle;\n",
              "    }\n",
              "\n",
              "    .dataframe tbody tr th {\n",
              "        vertical-align: top;\n",
              "    }\n",
              "\n",
              "    .dataframe thead th {\n",
              "        text-align: right;\n",
              "    }\n",
              "</style>\n",
              "<table border=\"1\" class=\"dataframe\">\n",
              "  <thead>\n",
              "    <tr style=\"text-align: right;\">\n",
              "      <th></th>\n",
              "      <th>split0_test_rmse</th>\n",
              "      <th>split1_test_rmse</th>\n",
              "      <th>split2_test_rmse</th>\n",
              "      <th>mean_test_rmse</th>\n",
              "      <th>std_test_rmse</th>\n",
              "      <th>rank_test_rmse</th>\n",
              "      <th>split0_test_mae</th>\n",
              "      <th>split1_test_mae</th>\n",
              "      <th>split2_test_mae</th>\n",
              "      <th>mean_test_mae</th>\n",
              "      <th>std_test_mae</th>\n",
              "      <th>rank_test_mae</th>\n",
              "      <th>mean_fit_time</th>\n",
              "      <th>std_fit_time</th>\n",
              "      <th>mean_test_time</th>\n",
              "      <th>std_test_time</th>\n",
              "      <th>params</th>\n",
              "      <th>param_k</th>\n",
              "      <th>param_sim_options</th>\n",
              "    </tr>\n",
              "  </thead>\n",
              "  <tbody>\n",
              "    <tr>\n",
              "      <th>0</th>\n",
              "      <td>1.047091</td>\n",
              "      <td>1.041879</td>\n",
              "      <td>1.052965</td>\n",
              "      <td>1.047312</td>\n",
              "      <td>0.004529</td>\n",
              "      <td>3</td>\n",
              "      <td>0.818568</td>\n",
              "      <td>0.812157</td>\n",
              "      <td>0.820655</td>\n",
              "      <td>0.817127</td>\n",
              "      <td>0.003616</td>\n",
              "      <td>3</td>\n",
              "      <td>7.820532</td>\n",
              "      <td>1.377687</td>\n",
              "      <td>11.968033</td>\n",
              "      <td>0.242643</td>\n",
              "      <td>{'k': 10, 'sim_options': {'name': 'cosine', 'u...</td>\n",
              "      <td>10</td>\n",
              "      <td>{'name': 'cosine', 'user_based': False}</td>\n",
              "    </tr>\n",
              "    <tr>\n",
              "      <th>1</th>\n",
              "      <td>1.015611</td>\n",
              "      <td>1.010703</td>\n",
              "      <td>1.019377</td>\n",
              "      <td>1.015230</td>\n",
              "      <td>0.003551</td>\n",
              "      <td>2</td>\n",
              "      <td>0.793737</td>\n",
              "      <td>0.785841</td>\n",
              "      <td>0.793605</td>\n",
              "      <td>0.791061</td>\n",
              "      <td>0.003692</td>\n",
              "      <td>2</td>\n",
              "      <td>6.006800</td>\n",
              "      <td>0.488750</td>\n",
              "      <td>12.497449</td>\n",
              "      <td>0.422320</td>\n",
              "      <td>{'k': 20, 'sim_options': {'name': 'cosine', 'u...</td>\n",
              "      <td>20</td>\n",
              "      <td>{'name': 'cosine', 'user_based': False}</td>\n",
              "    </tr>\n",
              "    <tr>\n",
              "      <th>2</th>\n",
              "      <td>1.002349</td>\n",
              "      <td>0.998614</td>\n",
              "      <td>1.005042</td>\n",
              "      <td>1.002001</td>\n",
              "      <td>0.002636</td>\n",
              "      <td>1</td>\n",
              "      <td>0.782082</td>\n",
              "      <td>0.775522</td>\n",
              "      <td>0.781281</td>\n",
              "      <td>0.779628</td>\n",
              "      <td>0.002922</td>\n",
              "      <td>1</td>\n",
              "      <td>6.399054</td>\n",
              "      <td>1.397708</td>\n",
              "      <td>11.916812</td>\n",
              "      <td>2.982195</td>\n",
              "      <td>{'k': 30, 'sim_options': {'name': 'cosine', 'u...</td>\n",
              "      <td>30</td>\n",
              "      <td>{'name': 'cosine', 'user_based': False}</td>\n",
              "    </tr>\n",
              "  </tbody>\n",
              "</table>\n",
              "</div>\n",
              "      <button class=\"colab-df-convert\" onclick=\"convertToInteractive('df-34b7e7e9-2fa8-437d-b513-8e24209e85b4')\"\n",
              "              title=\"Convert this dataframe to an interactive table.\"\n",
              "              style=\"display:none;\">\n",
              "        \n",
              "  <svg xmlns=\"http://www.w3.org/2000/svg\" height=\"24px\"viewBox=\"0 0 24 24\"\n",
              "       width=\"24px\">\n",
              "    <path d=\"M0 0h24v24H0V0z\" fill=\"none\"/>\n",
              "    <path d=\"M18.56 5.44l.94 2.06.94-2.06 2.06-.94-2.06-.94-.94-2.06-.94 2.06-2.06.94zm-11 1L8.5 8.5l.94-2.06 2.06-.94-2.06-.94L8.5 2.5l-.94 2.06-2.06.94zm10 10l.94 2.06.94-2.06 2.06-.94-2.06-.94-.94-2.06-.94 2.06-2.06.94z\"/><path d=\"M17.41 7.96l-1.37-1.37c-.4-.4-.92-.59-1.43-.59-.52 0-1.04.2-1.43.59L10.3 9.45l-7.72 7.72c-.78.78-.78 2.05 0 2.83L4 21.41c.39.39.9.59 1.41.59.51 0 1.02-.2 1.41-.59l7.78-7.78 2.81-2.81c.8-.78.8-2.07 0-2.86zM5.41 20L4 18.59l7.72-7.72 1.47 1.35L5.41 20z\"/>\n",
              "  </svg>\n",
              "      </button>\n",
              "      \n",
              "  <style>\n",
              "    .colab-df-container {\n",
              "      display:flex;\n",
              "      flex-wrap:wrap;\n",
              "      gap: 12px;\n",
              "    }\n",
              "\n",
              "    .colab-df-convert {\n",
              "      background-color: #E8F0FE;\n",
              "      border: none;\n",
              "      border-radius: 50%;\n",
              "      cursor: pointer;\n",
              "      display: none;\n",
              "      fill: #1967D2;\n",
              "      height: 32px;\n",
              "      padding: 0 0 0 0;\n",
              "      width: 32px;\n",
              "    }\n",
              "\n",
              "    .colab-df-convert:hover {\n",
              "      background-color: #E2EBFA;\n",
              "      box-shadow: 0px 1px 2px rgba(60, 64, 67, 0.3), 0px 1px 3px 1px rgba(60, 64, 67, 0.15);\n",
              "      fill: #174EA6;\n",
              "    }\n",
              "\n",
              "    [theme=dark] .colab-df-convert {\n",
              "      background-color: #3B4455;\n",
              "      fill: #D2E3FC;\n",
              "    }\n",
              "\n",
              "    [theme=dark] .colab-df-convert:hover {\n",
              "      background-color: #434B5C;\n",
              "      box-shadow: 0px 1px 3px 1px rgba(0, 0, 0, 0.15);\n",
              "      filter: drop-shadow(0px 1px 2px rgba(0, 0, 0, 0.3));\n",
              "      fill: #FFFFFF;\n",
              "    }\n",
              "  </style>\n",
              "\n",
              "      <script>\n",
              "        const buttonEl =\n",
              "          document.querySelector('#df-34b7e7e9-2fa8-437d-b513-8e24209e85b4 button.colab-df-convert');\n",
              "        buttonEl.style.display =\n",
              "          google.colab.kernel.accessAllowed ? 'block' : 'none';\n",
              "\n",
              "        async function convertToInteractive(key) {\n",
              "          const element = document.querySelector('#df-34b7e7e9-2fa8-437d-b513-8e24209e85b4');\n",
              "          const dataTable =\n",
              "            await google.colab.kernel.invokeFunction('convertToInteractive',\n",
              "                                                     [key], {});\n",
              "          if (!dataTable) return;\n",
              "\n",
              "          const docLinkHtml = 'Like what you see? Visit the ' +\n",
              "            '<a target=\"_blank\" href=https://colab.research.google.com/notebooks/data_table.ipynb>data table notebook</a>'\n",
              "            + ' to learn more about interactive tables.';\n",
              "          element.innerHTML = '';\n",
              "          dataTable['output_type'] = 'display_data';\n",
              "          await google.colab.output.renderOutput(dataTable, element);\n",
              "          const docLink = document.createElement('div');\n",
              "          docLink.innerHTML = docLinkHtml;\n",
              "          element.appendChild(docLink);\n",
              "        }\n",
              "      </script>\n",
              "    </div>\n",
              "  </div>\n",
              "  "
            ]
          },
          "metadata": {},
          "execution_count": 43
        }
      ],
      "source": [
        "results_df = pd.DataFrame.from_dict(grid_obj.cv_results)\n",
        "results_df.head()"
      ]
    },
    {
      "cell_type": "markdown",
      "metadata": {
        "id": "rJkmvdsf2rUt"
      },
      "source": [
        "Now let's build the **final model** by using **tuned values of the hyperparameters** which we received by using grid search cross-validation."
      ]
    },
    {
      "cell_type": "code",
      "execution_count": 44,
      "metadata": {
        "id": "46irii4pwICL",
        "colab": {
          "base_uri": "https://localhost:8080/"
        },
        "outputId": "d60297df-943d-4d88-dc38-6dca7dc3b2cd"
      },
      "outputs": [
        {
          "output_type": "stream",
          "name": "stdout",
          "text": [
            "RMSE: 1.0110\n"
          ]
        },
        {
          "output_type": "execute_result",
          "data": {
            "text/plain": [
              "1.0109610563838323"
            ]
          },
          "metadata": {},
          "execution_count": 44
        }
      ],
      "source": [
        "# Creating an instance of KNNBasic with optimal hyperparameter values\n",
        "similarity_algo_optimized_item = KNNBasic(sim_options={'name': 'cosine', 'user_based': False}, k=30, min_k=1, verbose=False)\n",
        "\n",
        "# Training the algorithm on the trainset\n",
        "similarity_algo_optimized_item.fit(trainset)\n",
        "\n",
        "# Predicting ratings for the testset\n",
        "predictions = similarity_algo_optimized_item.test(testset)\n",
        "\n",
        "# Computing RMSE on testset\n",
        "accuracy.rmse(predictions)"
      ]
    },
    {
      "cell_type": "markdown",
      "metadata": {
        "id": "OTdrMpQUwICM"
      },
      "source": [
        "**Write your Answer here: RMSE: 1.0110**"
      ]
    },
    {
      "cell_type": "markdown",
      "metadata": {
        "id": "tiDcRQDvwICN"
      },
      "source": [
        "### **Q 4.4 What is the Predicted rating for an item with userId =4 and for movieId= 10 and movieId=3 using tuned item based collaborative filtering? (1 Mark)**"
      ]
    },
    {
      "cell_type": "markdown",
      "metadata": {
        "id": "5IGjjEtpwICN"
      },
      "source": [
        "Let's us now predict rating for an user with `userId=4` and for `movieId=10` with the optimized model as shown below"
      ]
    },
    {
      "cell_type": "code",
      "execution_count": 45,
      "metadata": {
        "id": "Wg8APEG4wICO",
        "colab": {
          "base_uri": "https://localhost:8080/"
        },
        "outputId": "aff13ded-0d76-4952-9a50-a91caae5f088"
      },
      "outputs": [
        {
          "output_type": "stream",
          "name": "stdout",
          "text": [
            "user: 4          item: 10         r_ui = 4.00   est = 4.27   {'actual_k': 30, 'was_impossible': False}\n"
          ]
        },
        {
          "output_type": "execute_result",
          "data": {
            "text/plain": [
              "Prediction(uid=4, iid=10, r_ui=4, est=4.266374602019457, details={'actual_k': 30, 'was_impossible': False})"
            ]
          },
          "metadata": {},
          "execution_count": 45
        }
      ],
      "source": [
        "similarity_algo_optimized_item.predict(4,10, r_ui=4, verbose=True)"
      ]
    },
    {
      "cell_type": "markdown",
      "metadata": {
        "id": "qUXl61_5wICP"
      },
      "source": [
        "**Write your Answer here: Predicted rating 4.266**"
      ]
    },
    {
      "cell_type": "markdown",
      "metadata": {
        "id": "HDNNs3cqwICP"
      },
      "source": [
        "Let's predict the rating for the same `userId=4` but for a movie which this user has not interacted before i.e. `movieId=3`, by using the optimized model:"
      ]
    },
    {
      "cell_type": "code",
      "execution_count": 46,
      "metadata": {
        "id": "oEew8TwvwICQ",
        "colab": {
          "base_uri": "https://localhost:8080/"
        },
        "outputId": "af99b83b-f5fb-41d7-c24f-b618cf12104e"
      },
      "outputs": [
        {
          "output_type": "stream",
          "name": "stdout",
          "text": [
            "user: 4          item: 3          r_ui = None   est = 3.93   {'actual_k': 30, 'was_impossible': False}\n"
          ]
        },
        {
          "output_type": "execute_result",
          "data": {
            "text/plain": [
              "Prediction(uid=4, iid=3, r_ui=None, est=3.932088561494898, details={'actual_k': 30, 'was_impossible': False})"
            ]
          },
          "metadata": {},
          "execution_count": 46
        }
      ],
      "source": [
        "similarity_algo_optimized_item.predict(4, 3, verbose=True)"
      ]
    },
    {
      "cell_type": "markdown",
      "metadata": {
        "id": "sTKvXHU0wICR"
      },
      "source": [
        "**Write your Answer here: Predicted rating 3.932**"
      ]
    },
    {
      "cell_type": "markdown",
      "metadata": {
        "id": "xquRIW-XwICS"
      },
      "source": [
        "### **Identifying similar items to a given item (nearest neighbors)**\n",
        "We can also find out the similar items to a given item or its nearest neighbors based on this KNNBasic algorithm. Below we are finding 5 most similar items to the `movieId=3` based on the `msd` distance metric"
      ]
    },
    {
      "cell_type": "code",
      "execution_count": 47,
      "metadata": {
        "id": "b4HbXJv-wICS",
        "colab": {
          "base_uri": "https://localhost:8080/"
        },
        "outputId": "1f4b1691-494d-4628-fd1e-057e672b2c90"
      },
      "outputs": [
        {
          "output_type": "execute_result",
          "data": {
            "text/plain": [
              "[14, 18, 19, 25, 27]"
            ]
          },
          "metadata": {},
          "execution_count": 47
        }
      ],
      "source": [
        "similarity_algo_optimized_item.get_neighbors(3, k=5)"
      ]
    },
    {
      "cell_type": "markdown",
      "metadata": {
        "id": "PI69gPEdwICZ"
      },
      "source": [
        "#### **Predicted top 5 movies for userId=4 with similarity based recommendation system**"
      ]
    },
    {
      "cell_type": "code",
      "execution_count": 48,
      "metadata": {
        "id": "RAzdWtCSwICa"
      },
      "outputs": [],
      "source": [
        "recommendations = get_recommendations(rating, 4, 5, similarity_algo_optimized_item)"
      ]
    },
    {
      "cell_type": "markdown",
      "metadata": {
        "id": "_cDPuGWcwICb"
      },
      "source": [
        "### **Q 4.5 Predict the top 5 movies for userId=4 with similarity based recommendation system (1 Mark)**"
      ]
    },
    {
      "cell_type": "code",
      "execution_count": 49,
      "metadata": {
        "id": "kJICKPecwICb",
        "colab": {
          "base_uri": "https://localhost:8080/"
        },
        "outputId": "98072125-0172-4ef2-8b47-9a54299b9073"
      },
      "outputs": [
        {
          "output_type": "execute_result",
          "data": {
            "text/plain": [
              "[(84, 5), (1040, 5), (1067, 5), (2481, 5), (2562, 5)]"
            ]
          },
          "metadata": {},
          "execution_count": 49
        }
      ],
      "source": [
        "recommendations"
      ]
    },
    {
      "cell_type": "markdown",
      "metadata": {
        "id": "rKgJpSA9vOOL"
      },
      "source": [
        "## **Model 4: Based Collaborative Filtering - Matrix Factorization using SVD (7 Marks)**"
      ]
    },
    {
      "cell_type": "markdown",
      "metadata": {
        "id": "YF6ZGyqhCAob"
      },
      "source": [
        "Model-based Collaborative Filtering is a **personalized recommendation system**, the recommendations are based on the past behavior of the user and it is not dependent on any additional information. We use **latent features** to find recommendations for each user."
      ]
    },
    {
      "cell_type": "markdown",
      "metadata": {
        "id": "uxGWVpOMvOOL"
      },
      "source": [
        "**Latent Features:** The features that are not present in the empirical data but can be inferred from the data. For example:"
      ]
    },
    {
      "cell_type": "markdown",
      "metadata": {
        "id": "ZfVDC0IuvOOL"
      },
      "source": [
        "![test_image](https://raw.githubusercontent.com/GL-ACADOPS/RS-IMAGES/main/CF3.PNG)"
      ]
    },
    {
      "cell_type": "markdown",
      "metadata": {
        "id": "W2TTW8YfvOOL"
      },
      "source": [
        "Now if we notice the above movies closely:"
      ]
    },
    {
      "cell_type": "markdown",
      "metadata": {
        "id": "RDcl6w2WvOOL"
      },
      "source": [
        "![test_image](https://raw.githubusercontent.com/GL-ACADOPS/RS-IMAGES/main/CF4.PNG)"
      ]
    },
    {
      "cell_type": "markdown",
      "metadata": {
        "id": "3l7fsZWNvOOL"
      },
      "source": [
        "Here **Action**, **Romance**, **Suspense** and **Comedy** are latent features of the corresponding movies. Similarly, we can compute the latent features for users as shown below:"
      ]
    },
    {
      "cell_type": "markdown",
      "metadata": {
        "id": "0Ad4w7bvvOOL"
      },
      "source": [
        "![test_image](https://raw.githubusercontent.com/GL-ACADOPS/RS-IMAGES/main/CF5.PNG)\n",
        "\n"
      ]
    },
    {
      "cell_type": "markdown",
      "metadata": {
        "id": "n4Otha8ovOOL"
      },
      "source": [
        "### **Singular Value Decomposition (SVD)**"
      ]
    },
    {
      "cell_type": "markdown",
      "metadata": {
        "id": "3sGl3QkLvOOL"
      },
      "source": [
        "SVD is used to **compute the latent features** from the **user-item matrix**. But SVD does not work when we **miss values** in the **user-item matrix**."
      ]
    },
    {
      "cell_type": "markdown",
      "metadata": {
        "id": "C80zDC6xvOOL"
      },
      "source": [
        "First we need to convert the below movie-rating dataset:"
      ]
    },
    {
      "cell_type": "markdown",
      "metadata": {
        "id": "xA_MGBrwvOOL"
      },
      "source": [
        "![test_image](https://raw.githubusercontent.com/GL-ACADOPS/RS-IMAGES/main/CF3.PNG)"
      ]
    },
    {
      "cell_type": "markdown",
      "metadata": {
        "id": "3q39l4__vOOL"
      },
      "source": [
        "into an user-item matrix as shown below:"
      ]
    },
    {
      "cell_type": "markdown",
      "metadata": {
        "id": "kAz3MNfEvOOL"
      },
      "source": [
        "![test_image](https://raw.githubusercontent.com/GL-ACADOPS/RS-IMAGES/main/CF6.PNG)"
      ]
    },
    {
      "cell_type": "markdown",
      "metadata": {
        "id": "6piwQzq3vOOL"
      },
      "source": [
        "We have already done this above while computing cosine similarities."
      ]
    },
    {
      "cell_type": "markdown",
      "metadata": {
        "id": "gOzTLIfIvOOL"
      },
      "source": [
        "**SVD decomposes this above matrix into three separate matrices:**\n",
        "- U matrix\n",
        "- Sigma matrix\n",
        "- V transpose matrix"
      ]
    },
    {
      "cell_type": "markdown",
      "metadata": {
        "id": "IVq1fCrBvOOL"
      },
      "source": [
        "#### **U-matrix**"
      ]
    },
    {
      "cell_type": "markdown",
      "metadata": {
        "id": "Y9wsChCmvOOL"
      },
      "source": [
        "![test_image](https://raw.githubusercontent.com/GL-ACADOPS/RS-IMAGES/main/CF7.PNG)"
      ]
    },
    {
      "cell_type": "markdown",
      "metadata": {
        "id": "hA1dXvYXvOOL"
      },
      "source": [
        "the above matrix is a n x k matrix, where:\n",
        "- n is number of users\n",
        "- k is number of latent features"
      ]
    },
    {
      "cell_type": "markdown",
      "metadata": {
        "id": "dplq-n9dvOOL"
      },
      "source": [
        "#### **Sigma-matrix**"
      ]
    },
    {
      "cell_type": "markdown",
      "metadata": {
        "id": "kB6jCN5svOOL"
      },
      "source": [
        "![test_image](https://raw.githubusercontent.com/GL-ACADOPS/RS-IMAGES/main/CF8.PNG)"
      ]
    },
    {
      "cell_type": "markdown",
      "metadata": {
        "id": "-twhbZ3wvOOL"
      },
      "source": [
        "the above matrix is a k x k matrix, where:\n",
        "- k is number of latent features\n",
        "- Each diagonal entry is the singular value of the original interaction matrix"
      ]
    },
    {
      "cell_type": "markdown",
      "metadata": {
        "id": "nr0dF0XcvOOL"
      },
      "source": [
        "#### **V-transpose matrix**"
      ]
    },
    {
      "cell_type": "markdown",
      "metadata": {
        "id": "hz82XFEgvOOL"
      },
      "source": [
        "![test_image](https://raw.githubusercontent.com/GL-ACADOPS/RS-IMAGES/main/CF9.PNG)"
      ]
    },
    {
      "cell_type": "markdown",
      "metadata": {
        "id": "o9B1119q2N-M"
      },
      "source": [
        "the above matrix is a kxn matrix, where:\n",
        "- k is the number of latent features\n",
        "- n is the number of items"
      ]
    },
    {
      "cell_type": "markdown",
      "metadata": {
        "id": "uOtkUXmAnVNL"
      },
      "source": [
        "### **Build a baseline matrix factorization recommendation system**"
      ]
    },
    {
      "cell_type": "code",
      "execution_count": 50,
      "metadata": {
        "id": "07-2PT5Ssjqm",
        "colab": {
          "base_uri": "https://localhost:8080/"
        },
        "outputId": "0266b6eb-afe0-4a9f-adfc-6da8828a27e4"
      },
      "outputs": [
        {
          "output_type": "stream",
          "name": "stdout",
          "text": [
            "RMSE: 0.9019\n"
          ]
        },
        {
          "output_type": "execute_result",
          "data": {
            "text/plain": [
              "0.9018720742555963"
            ]
          },
          "metadata": {},
          "execution_count": 50
        }
      ],
      "source": [
        "# Using SVD matrix factorization\n",
        "algo_svd = SVD()\n",
        "\n",
        "# Training the algorithm on the trainset\n",
        "algo_svd.fit(trainset)\n",
        "\n",
        "# Predicting ratings for the testset\n",
        "predictions = algo_svd.test(testset)\n",
        "\n",
        "# Computing RMSE on the testset\n",
        "accuracy.rmse(predictions)"
      ]
    },
    {
      "cell_type": "markdown",
      "metadata": {
        "id": "2271PkTuwICu"
      },
      "source": [
        "### **Q 5.1 What is the RMSE for baseline SVD based collaborative filtering recommendation system? (1 Mark)**"
      ]
    },
    {
      "cell_type": "markdown",
      "metadata": {
        "id": "BQ6fTuCDnVNL"
      },
      "source": [
        "**Write your Answer here: RMSE 0.9019**"
      ]
    },
    {
      "cell_type": "markdown",
      "metadata": {
        "id": "fsBGQrwCwICv"
      },
      "source": [
        "### **Q 5.2 What is the Predicted  rating for an user with userId =4 and for movieId= 10 and movieId=3? (1 Mark)**"
      ]
    },
    {
      "cell_type": "markdown",
      "metadata": {
        "id": "HD2AU1DnnVNM"
      },
      "source": [
        "Let's us now predict rating for an user with `userId=4` and for `movieId=10`"
      ]
    },
    {
      "cell_type": "code",
      "execution_count": 51,
      "metadata": {
        "id": "yWIhfdxXsjqm",
        "colab": {
          "base_uri": "https://localhost:8080/"
        },
        "outputId": "9be88ea7-e60d-4890-d8a7-e1fa749fb757"
      },
      "outputs": [
        {
          "output_type": "stream",
          "name": "stdout",
          "text": [
            "user: 4          item: 10         r_ui = 4.00   est = 4.30   {'was_impossible': False}\n"
          ]
        },
        {
          "output_type": "execute_result",
          "data": {
            "text/plain": [
              "Prediction(uid=4, iid=10, r_ui=4, est=4.304033816743414, details={'was_impossible': False})"
            ]
          },
          "metadata": {},
          "execution_count": 51
        }
      ],
      "source": [
        "algo_svd.predict(4, 10, r_ui=4, verbose=True)"
      ]
    },
    {
      "cell_type": "markdown",
      "metadata": {
        "id": "oIjzqDY5nVNM"
      },
      "source": [
        "**Write your Answer here: Predicted rating: 4.304**"
      ]
    },
    {
      "cell_type": "markdown",
      "metadata": {
        "id": "I1aYxVeMnVNM"
      },
      "source": [
        "Let's predict the rating for the same `userId=4` but for a movie which this user has not interacted before i.e. `movieId=3`:"
      ]
    },
    {
      "cell_type": "code",
      "execution_count": 52,
      "metadata": {
        "id": "APm-uMSvcAMf",
        "colab": {
          "base_uri": "https://localhost:8080/"
        },
        "outputId": "f113b67a-131f-4b2f-b8d4-8cedb6197335"
      },
      "outputs": [
        {
          "output_type": "stream",
          "name": "stdout",
          "text": [
            "user: 4          item: 3          r_ui = None   est = 3.87   {'was_impossible': False}\n"
          ]
        },
        {
          "output_type": "execute_result",
          "data": {
            "text/plain": [
              "Prediction(uid=4, iid=3, r_ui=None, est=3.8703669936535774, details={'was_impossible': False})"
            ]
          },
          "metadata": {},
          "execution_count": 52
        }
      ],
      "source": [
        "algo_svd.predict(4, 3, verbose=True)"
      ]
    },
    {
      "cell_type": "markdown",
      "metadata": {
        "id": "NEL6dy3wnVNM"
      },
      "source": [
        "**Write your Answer here: Predicted rating: 3.870**"
      ]
    },
    {
      "cell_type": "markdown",
      "metadata": {
        "id": "x13Eb9Owvpcw"
      },
      "source": [
        "### **Improving matrix factorization based recommendation system by tuning its hyper-parameters**"
      ]
    },
    {
      "cell_type": "markdown",
      "metadata": {
        "id": "qbd3L1d2nVNM"
      },
      "source": [
        "In SVD, rating is predicted as - "
      ]
    },
    {
      "cell_type": "markdown",
      "metadata": {
        "id": "Wp38lmEqnVNM"
      },
      "source": [
        "$$\\hat{r}_{u i}=\\mu+b_{u}+b_{i}+q_{i}^{T} p_{u}$$"
      ]
    },
    {
      "cell_type": "markdown",
      "metadata": {
        "id": "bHVAYuFznVNN"
      },
      "source": [
        "If user $u$ is unknown, then the bias $b_{u}$ and the factors $p_{u}$ are assumed to be zero. The same applies for item $i$ with $b_{i}$ and $q_{i}$."
      ]
    },
    {
      "cell_type": "markdown",
      "metadata": {
        "id": "jCfY5mr7nVNN"
      },
      "source": [
        "To estimate all the unknown, we minimize the following regularized squared error:"
      ]
    },
    {
      "cell_type": "markdown",
      "metadata": {
        "id": "1WyyjmK7nVNN"
      },
      "source": [
        "$$\\sum_{r_{u i} \\in R_{\\text {train }}}\\left(r_{u i}-\\hat{r}_{u i}\\right)^{2}+\\lambda\\left(b_{i}^{2}+b_{u}^{2}+\\left\\|q_{i}\\right\\|^{2}+\\left\\|p_{u}\\right\\|^{2}\\right)$$"
      ]
    },
    {
      "cell_type": "markdown",
      "metadata": {
        "id": "-GBMNL9qnVNN"
      },
      "source": [
        "The minimization is performed by a very straightforward **stochastic gradient descent**:"
      ]
    },
    {
      "cell_type": "markdown",
      "metadata": {
        "id": "CwJJRsJGnVNN"
      },
      "source": [
        "$$\\begin{aligned} b_{u} & \\leftarrow b_{u}+\\gamma\\left(e_{u i}-\\lambda b_{u}\\right) \\\\ b_{i} & \\leftarrow b_{i}+\\gamma\\left(e_{u i}-\\lambda b_{i}\\right) \\\\ p_{u} & \\leftarrow p_{u}+\\gamma\\left(e_{u i} \\cdot q_{i}-\\lambda p_{u}\\right) \\\\ q_{i} & \\leftarrow q_{i}+\\gamma\\left(e_{u i} \\cdot p_{u}-\\lambda q_{i}\\right) \\end{aligned}$$"
      ]
    },
    {
      "cell_type": "markdown",
      "metadata": {
        "id": "nuRjcsUknVNN"
      },
      "source": [
        "There are many hyperparameters to tune in this algorithm, you can find a full list of hyperparameters [here](https://surprise.readthedocs.io/en/stable/matrix_factorization.html#surprise.prediction_algorithms.matrix_factorization.SVD)"
      ]
    },
    {
      "cell_type": "markdown",
      "metadata": {
        "id": "iQcDPhhcnVNN"
      },
      "source": [
        "Below we will be tuning only three hyperparameters -\n",
        "- **n_epochs**: The number of iteration of the SGD algorithm\n",
        "- **lr_all**: The learning rate for all parameters\n",
        "- **reg_all**: The regularization term for all parameters"
      ]
    },
    {
      "cell_type": "markdown",
      "metadata": {
        "id": "ksN4zUnUwIC_"
      },
      "source": [
        "### **Q 5.3 Perform hyperparameter tuning for the baseline SVD based collaborative filtering recommendation system and find the RMSE for tuned SVD based collaborative filtering recommendation system? (3 Marks)**"
      ]
    },
    {
      "cell_type": "code",
      "execution_count": 53,
      "metadata": {
        "id": "4bM81V_hvtwv",
        "colab": {
          "base_uri": "https://localhost:8080/"
        },
        "outputId": "2247203b-4833-4437-9371-3ca06e9fdbf3"
      },
      "outputs": [
        {
          "output_type": "stream",
          "name": "stdout",
          "text": [
            "0.8932780696465645\n",
            "{'n_epochs': 30, 'lr_all': 0.01, 'reg_all': 0.2}\n"
          ]
        }
      ],
      "source": [
        "# Set the parameter space to tune\n",
        "param_grid = {'n_epochs': [10, 20, 30], 'lr_all': [0.001, 0.005, 0.01],\n",
        "              'reg_all': [0.2, 0.4, 0.6]}\n",
        "\n",
        "# Performing 3-fold gridsearch cross validation\n",
        "gs = GridSearchCV(SVD, param_grid, measures=['rmse', 'mae'], cv=3, n_jobs=-1)\n",
        "\n",
        "# Fitting data\n",
        "gs.fit(data)\n",
        "\n",
        "# Best RMSE score\n",
        "print(gs.best_score['rmse'])\n",
        "\n",
        "# Combination of parameters that gave the best RMSE score\n",
        "print(gs.best_params['rmse'])"
      ]
    },
    {
      "cell_type": "markdown",
      "metadata": {
        "id": "cjIaWSIAnVNN"
      },
      "source": [
        "Once the **grid search** is complete, we can get the **optimal values** for each of those hyperparameters, as shown above."
      ]
    },
    {
      "cell_type": "markdown",
      "metadata": {
        "id": "2CfLdGf0nVNN"
      },
      "source": [
        "Below we are analysing evaluation metrics - RMSE and MAE at each and every split to analyze the impact of each value of hyperparameters"
      ]
    },
    {
      "cell_type": "code",
      "execution_count": 54,
      "metadata": {
        "id": "RMb3t3z_vt8W",
        "colab": {
          "base_uri": "https://localhost:8080/",
          "height": 617
        },
        "outputId": "50862b01-042f-40f6-ed7c-b96229739f92"
      },
      "outputs": [
        {
          "output_type": "execute_result",
          "data": {
            "text/plain": [
              "   split0_test_rmse  split1_test_rmse  split2_test_rmse  mean_test_rmse  \\\n",
              "0          0.944393          0.947079          0.938542        0.943338   \n",
              "1          0.948394          0.951431          0.942736        0.947520   \n",
              "2          0.954024          0.956816          0.947531        0.952791   \n",
              "3          0.908722          0.909872          0.901288        0.906627   \n",
              "4          0.916086          0.917171          0.908387        0.913882   \n",
              "\n",
              "   std_test_rmse  rank_test_rmse  split0_test_mae  split1_test_mae  \\\n",
              "0       0.003564              25         0.736940         0.742819   \n",
              "1       0.003603              26         0.741752         0.747766   \n",
              "2       0.003890              27         0.747749         0.753536   \n",
              "3       0.003804              11         0.701851         0.706212   \n",
              "4       0.003910              15         0.709577         0.713650   \n",
              "\n",
              "   split2_test_mae  mean_test_mae  std_test_mae  rank_test_mae  mean_fit_time  \\\n",
              "0         0.734488       0.738083      0.003496             25       1.508761   \n",
              "1         0.739930       0.743150      0.003348             26       1.501039   \n",
              "2         0.745338       0.748874      0.003440             27       0.732920   \n",
              "3         0.698917       0.702327      0.002997              9       0.738079   \n",
              "4         0.706593       0.709940      0.002892             15       0.719254   \n",
              "\n",
              "   std_fit_time  mean_test_time  std_test_time  \\\n",
              "0      0.069748        0.795248       0.219684   \n",
              "1      0.049710        0.676252       0.072027   \n",
              "2      0.023905        0.427124       0.016771   \n",
              "3      0.030710        0.452346       0.020591   \n",
              "4      0.015445        0.428654       0.009231   \n",
              "\n",
              "                                              params  param_n_epochs  \\\n",
              "0  {'n_epochs': 10, 'lr_all': 0.001, 'reg_all': 0.2}              10   \n",
              "1  {'n_epochs': 10, 'lr_all': 0.001, 'reg_all': 0.4}              10   \n",
              "2  {'n_epochs': 10, 'lr_all': 0.001, 'reg_all': 0.6}              10   \n",
              "3  {'n_epochs': 10, 'lr_all': 0.005, 'reg_all': 0.2}              10   \n",
              "4  {'n_epochs': 10, 'lr_all': 0.005, 'reg_all': 0.4}              10   \n",
              "\n",
              "   param_lr_all  param_reg_all  \n",
              "0         0.001            0.2  \n",
              "1         0.001            0.4  \n",
              "2         0.001            0.6  \n",
              "3         0.005            0.2  \n",
              "4         0.005            0.4  "
            ],
            "text/html": [
              "\n",
              "  <div id=\"df-d219dbcc-f0be-4e60-be12-d0bc08483a8b\">\n",
              "    <div class=\"colab-df-container\">\n",
              "      <div>\n",
              "<style scoped>\n",
              "    .dataframe tbody tr th:only-of-type {\n",
              "        vertical-align: middle;\n",
              "    }\n",
              "\n",
              "    .dataframe tbody tr th {\n",
              "        vertical-align: top;\n",
              "    }\n",
              "\n",
              "    .dataframe thead th {\n",
              "        text-align: right;\n",
              "    }\n",
              "</style>\n",
              "<table border=\"1\" class=\"dataframe\">\n",
              "  <thead>\n",
              "    <tr style=\"text-align: right;\">\n",
              "      <th></th>\n",
              "      <th>split0_test_rmse</th>\n",
              "      <th>split1_test_rmse</th>\n",
              "      <th>split2_test_rmse</th>\n",
              "      <th>mean_test_rmse</th>\n",
              "      <th>std_test_rmse</th>\n",
              "      <th>rank_test_rmse</th>\n",
              "      <th>split0_test_mae</th>\n",
              "      <th>split1_test_mae</th>\n",
              "      <th>split2_test_mae</th>\n",
              "      <th>mean_test_mae</th>\n",
              "      <th>std_test_mae</th>\n",
              "      <th>rank_test_mae</th>\n",
              "      <th>mean_fit_time</th>\n",
              "      <th>std_fit_time</th>\n",
              "      <th>mean_test_time</th>\n",
              "      <th>std_test_time</th>\n",
              "      <th>params</th>\n",
              "      <th>param_n_epochs</th>\n",
              "      <th>param_lr_all</th>\n",
              "      <th>param_reg_all</th>\n",
              "    </tr>\n",
              "  </thead>\n",
              "  <tbody>\n",
              "    <tr>\n",
              "      <th>0</th>\n",
              "      <td>0.944393</td>\n",
              "      <td>0.947079</td>\n",
              "      <td>0.938542</td>\n",
              "      <td>0.943338</td>\n",
              "      <td>0.003564</td>\n",
              "      <td>25</td>\n",
              "      <td>0.736940</td>\n",
              "      <td>0.742819</td>\n",
              "      <td>0.734488</td>\n",
              "      <td>0.738083</td>\n",
              "      <td>0.003496</td>\n",
              "      <td>25</td>\n",
              "      <td>1.508761</td>\n",
              "      <td>0.069748</td>\n",
              "      <td>0.795248</td>\n",
              "      <td>0.219684</td>\n",
              "      <td>{'n_epochs': 10, 'lr_all': 0.001, 'reg_all': 0.2}</td>\n",
              "      <td>10</td>\n",
              "      <td>0.001</td>\n",
              "      <td>0.2</td>\n",
              "    </tr>\n",
              "    <tr>\n",
              "      <th>1</th>\n",
              "      <td>0.948394</td>\n",
              "      <td>0.951431</td>\n",
              "      <td>0.942736</td>\n",
              "      <td>0.947520</td>\n",
              "      <td>0.003603</td>\n",
              "      <td>26</td>\n",
              "      <td>0.741752</td>\n",
              "      <td>0.747766</td>\n",
              "      <td>0.739930</td>\n",
              "      <td>0.743150</td>\n",
              "      <td>0.003348</td>\n",
              "      <td>26</td>\n",
              "      <td>1.501039</td>\n",
              "      <td>0.049710</td>\n",
              "      <td>0.676252</td>\n",
              "      <td>0.072027</td>\n",
              "      <td>{'n_epochs': 10, 'lr_all': 0.001, 'reg_all': 0.4}</td>\n",
              "      <td>10</td>\n",
              "      <td>0.001</td>\n",
              "      <td>0.4</td>\n",
              "    </tr>\n",
              "    <tr>\n",
              "      <th>2</th>\n",
              "      <td>0.954024</td>\n",
              "      <td>0.956816</td>\n",
              "      <td>0.947531</td>\n",
              "      <td>0.952791</td>\n",
              "      <td>0.003890</td>\n",
              "      <td>27</td>\n",
              "      <td>0.747749</td>\n",
              "      <td>0.753536</td>\n",
              "      <td>0.745338</td>\n",
              "      <td>0.748874</td>\n",
              "      <td>0.003440</td>\n",
              "      <td>27</td>\n",
              "      <td>0.732920</td>\n",
              "      <td>0.023905</td>\n",
              "      <td>0.427124</td>\n",
              "      <td>0.016771</td>\n",
              "      <td>{'n_epochs': 10, 'lr_all': 0.001, 'reg_all': 0.6}</td>\n",
              "      <td>10</td>\n",
              "      <td>0.001</td>\n",
              "      <td>0.6</td>\n",
              "    </tr>\n",
              "    <tr>\n",
              "      <th>3</th>\n",
              "      <td>0.908722</td>\n",
              "      <td>0.909872</td>\n",
              "      <td>0.901288</td>\n",
              "      <td>0.906627</td>\n",
              "      <td>0.003804</td>\n",
              "      <td>11</td>\n",
              "      <td>0.701851</td>\n",
              "      <td>0.706212</td>\n",
              "      <td>0.698917</td>\n",
              "      <td>0.702327</td>\n",
              "      <td>0.002997</td>\n",
              "      <td>9</td>\n",
              "      <td>0.738079</td>\n",
              "      <td>0.030710</td>\n",
              "      <td>0.452346</td>\n",
              "      <td>0.020591</td>\n",
              "      <td>{'n_epochs': 10, 'lr_all': 0.005, 'reg_all': 0.2}</td>\n",
              "      <td>10</td>\n",
              "      <td>0.005</td>\n",
              "      <td>0.2</td>\n",
              "    </tr>\n",
              "    <tr>\n",
              "      <th>4</th>\n",
              "      <td>0.916086</td>\n",
              "      <td>0.917171</td>\n",
              "      <td>0.908387</td>\n",
              "      <td>0.913882</td>\n",
              "      <td>0.003910</td>\n",
              "      <td>15</td>\n",
              "      <td>0.709577</td>\n",
              "      <td>0.713650</td>\n",
              "      <td>0.706593</td>\n",
              "      <td>0.709940</td>\n",
              "      <td>0.002892</td>\n",
              "      <td>15</td>\n",
              "      <td>0.719254</td>\n",
              "      <td>0.015445</td>\n",
              "      <td>0.428654</td>\n",
              "      <td>0.009231</td>\n",
              "      <td>{'n_epochs': 10, 'lr_all': 0.005, 'reg_all': 0.4}</td>\n",
              "      <td>10</td>\n",
              "      <td>0.005</td>\n",
              "      <td>0.4</td>\n",
              "    </tr>\n",
              "  </tbody>\n",
              "</table>\n",
              "</div>\n",
              "      <button class=\"colab-df-convert\" onclick=\"convertToInteractive('df-d219dbcc-f0be-4e60-be12-d0bc08483a8b')\"\n",
              "              title=\"Convert this dataframe to an interactive table.\"\n",
              "              style=\"display:none;\">\n",
              "        \n",
              "  <svg xmlns=\"http://www.w3.org/2000/svg\" height=\"24px\"viewBox=\"0 0 24 24\"\n",
              "       width=\"24px\">\n",
              "    <path d=\"M0 0h24v24H0V0z\" fill=\"none\"/>\n",
              "    <path d=\"M18.56 5.44l.94 2.06.94-2.06 2.06-.94-2.06-.94-.94-2.06-.94 2.06-2.06.94zm-11 1L8.5 8.5l.94-2.06 2.06-.94-2.06-.94L8.5 2.5l-.94 2.06-2.06.94zm10 10l.94 2.06.94-2.06 2.06-.94-2.06-.94-.94-2.06-.94 2.06-2.06.94z\"/><path d=\"M17.41 7.96l-1.37-1.37c-.4-.4-.92-.59-1.43-.59-.52 0-1.04.2-1.43.59L10.3 9.45l-7.72 7.72c-.78.78-.78 2.05 0 2.83L4 21.41c.39.39.9.59 1.41.59.51 0 1.02-.2 1.41-.59l7.78-7.78 2.81-2.81c.8-.78.8-2.07 0-2.86zM5.41 20L4 18.59l7.72-7.72 1.47 1.35L5.41 20z\"/>\n",
              "  </svg>\n",
              "      </button>\n",
              "      \n",
              "  <style>\n",
              "    .colab-df-container {\n",
              "      display:flex;\n",
              "      flex-wrap:wrap;\n",
              "      gap: 12px;\n",
              "    }\n",
              "\n",
              "    .colab-df-convert {\n",
              "      background-color: #E8F0FE;\n",
              "      border: none;\n",
              "      border-radius: 50%;\n",
              "      cursor: pointer;\n",
              "      display: none;\n",
              "      fill: #1967D2;\n",
              "      height: 32px;\n",
              "      padding: 0 0 0 0;\n",
              "      width: 32px;\n",
              "    }\n",
              "\n",
              "    .colab-df-convert:hover {\n",
              "      background-color: #E2EBFA;\n",
              "      box-shadow: 0px 1px 2px rgba(60, 64, 67, 0.3), 0px 1px 3px 1px rgba(60, 64, 67, 0.15);\n",
              "      fill: #174EA6;\n",
              "    }\n",
              "\n",
              "    [theme=dark] .colab-df-convert {\n",
              "      background-color: #3B4455;\n",
              "      fill: #D2E3FC;\n",
              "    }\n",
              "\n",
              "    [theme=dark] .colab-df-convert:hover {\n",
              "      background-color: #434B5C;\n",
              "      box-shadow: 0px 1px 3px 1px rgba(0, 0, 0, 0.15);\n",
              "      filter: drop-shadow(0px 1px 2px rgba(0, 0, 0, 0.3));\n",
              "      fill: #FFFFFF;\n",
              "    }\n",
              "  </style>\n",
              "\n",
              "      <script>\n",
              "        const buttonEl =\n",
              "          document.querySelector('#df-d219dbcc-f0be-4e60-be12-d0bc08483a8b button.colab-df-convert');\n",
              "        buttonEl.style.display =\n",
              "          google.colab.kernel.accessAllowed ? 'block' : 'none';\n",
              "\n",
              "        async function convertToInteractive(key) {\n",
              "          const element = document.querySelector('#df-d219dbcc-f0be-4e60-be12-d0bc08483a8b');\n",
              "          const dataTable =\n",
              "            await google.colab.kernel.invokeFunction('convertToInteractive',\n",
              "                                                     [key], {});\n",
              "          if (!dataTable) return;\n",
              "\n",
              "          const docLinkHtml = 'Like what you see? Visit the ' +\n",
              "            '<a target=\"_blank\" href=https://colab.research.google.com/notebooks/data_table.ipynb>data table notebook</a>'\n",
              "            + ' to learn more about interactive tables.';\n",
              "          element.innerHTML = '';\n",
              "          dataTable['output_type'] = 'display_data';\n",
              "          await google.colab.output.renderOutput(dataTable, element);\n",
              "          const docLink = document.createElement('div');\n",
              "          docLink.innerHTML = docLinkHtml;\n",
              "          element.appendChild(docLink);\n",
              "        }\n",
              "      </script>\n",
              "    </div>\n",
              "  </div>\n",
              "  "
            ]
          },
          "metadata": {},
          "execution_count": 54
        }
      ],
      "source": [
        "results_df = pd.DataFrame.from_dict(gs.cv_results)\n",
        "results_df.head()"
      ]
    },
    {
      "cell_type": "markdown",
      "metadata": {
        "id": "KzY78HsrnVNO"
      },
      "source": [
        "Now, we will **the build final model** by using **tuned values** of the hyperparameters, which we received using grid search cross-validation above."
      ]
    },
    {
      "cell_type": "code",
      "execution_count": 55,
      "metadata": {
        "id": "TA_7xe-nnhuu",
        "colab": {
          "base_uri": "https://localhost:8080/"
        },
        "outputId": "40ac0774-1678-4951-b1fc-473e715ed4a8"
      },
      "outputs": [
        {
          "output_type": "stream",
          "name": "stdout",
          "text": [
            "RMSE: 0.9055\n"
          ]
        },
        {
          "output_type": "execute_result",
          "data": {
            "text/plain": [
              "0.9055174090186665"
            ]
          },
          "metadata": {},
          "execution_count": 55
        }
      ],
      "source": [
        "# Building the optimized SVD model using optimal hyperparameter search\n",
        "svd_algo_optimized = SVD(n_epochs=30, lr_all=0.005, reg_all=0.4)\n",
        "\n",
        "# Training the algorithm on the trainset\n",
        "svd_algo_optimized.fit(trainset)\n",
        "\n",
        "# Predicting ratings for the testset\n",
        "predictions = svd_algo_optimized.test(testset)\n",
        "\n",
        "# Computing RMSE\n",
        "accuracy.rmse(predictions)"
      ]
    },
    {
      "cell_type": "markdown",
      "metadata": {
        "id": "UruWuDiCwIDE"
      },
      "source": [
        "### **Q 5.4 What is the Predicted rating for an user with userId =4 and for movieId= 10 and movieId=3 using SVD based collaborative filtering? (1 Mark)**"
      ]
    },
    {
      "cell_type": "markdown",
      "metadata": {
        "id": "md0-dL56nVNO"
      },
      "source": [
        "Let's us now predict rating for an user with `userId=4` and for `movieId=10` with the optimized model"
      ]
    },
    {
      "cell_type": "code",
      "execution_count": 56,
      "metadata": {
        "id": "s6C1PAfboM8_",
        "colab": {
          "base_uri": "https://localhost:8080/"
        },
        "outputId": "0686521b-25e9-46d9-ed04-76e8a260c8e2"
      },
      "outputs": [
        {
          "output_type": "stream",
          "name": "stdout",
          "text": [
            "user: 4          item: 10         r_ui = 4.00   est = 3.96   {'was_impossible': False}\n"
          ]
        },
        {
          "output_type": "execute_result",
          "data": {
            "text/plain": [
              "Prediction(uid=4, iid=10, r_ui=4, est=3.964443806685197, details={'was_impossible': False})"
            ]
          },
          "metadata": {},
          "execution_count": 56
        }
      ],
      "source": [
        "svd_algo_optimized.predict(4, 10, r_ui=4, verbose=True)"
      ]
    },
    {
      "cell_type": "markdown",
      "metadata": {
        "id": "VdiEtzEznVNO"
      },
      "source": [
        "**Write your Answer here: Predicted rating 3.964**"
      ]
    },
    {
      "cell_type": "markdown",
      "metadata": {
        "id": "Qd2bRtIQ4ze5"
      },
      "source": [
        "Let's predict the rating for the same `userId=4` but for a movie which this user has not interacted before i.e. `movieId=3`:"
      ]
    },
    {
      "cell_type": "code",
      "execution_count": 57,
      "metadata": {
        "id": "k1xjn3kOoQyg",
        "colab": {
          "base_uri": "https://localhost:8080/"
        },
        "outputId": "54abf153-685e-4aa5-caf7-3d07e12b03e5"
      },
      "outputs": [
        {
          "output_type": "stream",
          "name": "stdout",
          "text": [
            "user: 4          item: 3          r_ui = None   est = 3.67   {'was_impossible': False}\n"
          ]
        },
        {
          "output_type": "execute_result",
          "data": {
            "text/plain": [
              "Prediction(uid=4, iid=3, r_ui=None, est=3.665079800170493, details={'was_impossible': False})"
            ]
          },
          "metadata": {},
          "execution_count": 57
        }
      ],
      "source": [
        "svd_algo_optimized.predict(4, 3, verbose=True)"
      ]
    },
    {
      "cell_type": "markdown",
      "source": [
        "**Write your Answer here: Predicted rating 3.665**"
      ],
      "metadata": {
        "id": "TDeS-pb2LxWv"
      }
    },
    {
      "cell_type": "markdown",
      "metadata": {
        "id": "5jlUBrbFwIDH"
      },
      "source": [
        "### **Q 5.5 Predict the top 5 movies for userId=4 with SVD based recommendation system?(1 Mark)**"
      ]
    },
    {
      "cell_type": "code",
      "execution_count": 58,
      "metadata": {
        "id": "1LGeE2EB_n90",
        "colab": {
          "base_uri": "https://localhost:8080/"
        },
        "outputId": "efacbf5c-98e9-46fd-ae67-75ee2c3be3f3"
      },
      "outputs": [
        {
          "output_type": "execute_result",
          "data": {
            "text/plain": [
              "[(926, 4.744045624472524),\n",
              " (1217, 4.690841119518895),\n",
              " (1192, 4.684199866462933),\n",
              " (969, 4.679198926098133),\n",
              " (3035, 4.6661612038447124)]"
            ]
          },
          "metadata": {},
          "execution_count": 58
        }
      ],
      "source": [
        "get_recommendations(rating, 4, 5, svd_algo_optimized)"
      ]
    },
    {
      "cell_type": "markdown",
      "metadata": {
        "id": "xgKmqss1vqGz"
      },
      "source": [
        "### **Predicting ratings for already interacted movies** "
      ]
    },
    {
      "cell_type": "markdown",
      "metadata": {
        "id": "nNlUEB13wIDJ"
      },
      "source": [
        "Below we are comparing the rating predictions of users for those movies which has been already watched by an user. This will help us to understand how well are predictions are as compared to the actual ratings provided by users"
      ]
    },
    {
      "cell_type": "code",
      "execution_count": 59,
      "metadata": {
        "id": "hQIPHA7-vg7W"
      },
      "outputs": [],
      "source": [
        "def predict_already_interacted_ratings(data, user_id, algo):\n",
        "    \n",
        "    # Creating an empty list to store the recommended movie ids\n",
        "    recommendations = []\n",
        "    \n",
        "    # Creating an user item interactions matrix \n",
        "    user_item_interactions_matrix = data.pivot(index='userId', columns='movieId', values='rating')\n",
        "    \n",
        "    # Extracting those movie ids which the user_id has interacted already\n",
        "    interacted_movies = user_item_interactions_matrix.loc[user_id][user_item_interactions_matrix.loc[user_id].notnull()].index.tolist()\n",
        "    \n",
        "    # Looping through each of the movie id which user_id has interacted already\n",
        "    for item_id in interacted_movies:\n",
        "        \n",
        "        # Extracting actual ratings\n",
        "        actual_rating = user_item_interactions_matrix.loc[user_id, item_id]\n",
        "        \n",
        "        # Predicting the ratings for those non interacted movie ids by this user\n",
        "        predicted_rating = algo.predict(user_id, item_id).est\n",
        "        \n",
        "        # Appending the predicted ratings\n",
        "        recommendations.append((item_id, actual_rating, predicted_rating))\n",
        "\n",
        "    # Sorting the predicted ratings in descending order\n",
        "    recommendations.sort(key=lambda x: x[1], reverse=True)\n",
        "\n",
        "    return pd.DataFrame(recommendations, columns=['movieId', 'actual_rating', 'predicted_rating']) # returing top n highest predicted rating movies for this user"
      ]
    },
    {
      "cell_type": "markdown",
      "metadata": {
        "id": "5T0q833lwIDK"
      },
      "source": [
        "Here we are comparing the predicted ratings by `similarity based recommendation` system against actual ratings for `userId=7`"
      ]
    },
    {
      "cell_type": "code",
      "execution_count": 60,
      "metadata": {
        "id": "IWQvGj-vyWj3",
        "colab": {
          "base_uri": "https://localhost:8080/",
          "height": 506
        },
        "outputId": "73974c4e-1187-4e34-a577-1f28c8a90ace"
      },
      "outputs": [
        {
          "output_type": "display_data",
          "data": {
            "text/plain": [
              "<Figure size 664.5x500 with 1 Axes>"
            ],
            "image/png": "[encoded data removed]"
          },
          "metadata": {}
        }
      ],
      "source": [
        "predicted_ratings_for_interacted_movies = predict_already_interacted_ratings(rating, 7, similarity_algo_optimized_item)\n",
        "df = predicted_ratings_for_interacted_movies.melt(id_vars='movieId', value_vars=['actual_rating', 'predicted_rating'])\n",
        "sns.displot(data=df, x='value', hue='variable', kde=True);"
      ]
    },
    {
      "cell_type": "markdown",
      "metadata": {
        "id": "Yt9XGhb4wIDM"
      },
      "source": [
        "**Write your Answer here:generated comparative kde plot**"
      ]
    },
    {
      "cell_type": "markdown",
      "metadata": {
        "id": "jfNXSEw9wIDM"
      },
      "source": [
        "Below we are comparing the predicted ratings by `matrix factorization based recommendation` system against actual ratings for `userId=7`"
      ]
    },
    {
      "cell_type": "code",
      "execution_count": 61,
      "metadata": {
        "id": "6lYjMDhU0xuQ",
        "colab": {
          "base_uri": "https://localhost:8080/",
          "height": 506
        },
        "outputId": "5553afa5-1674-4e23-978b-a721ac5ac1eb"
      },
      "outputs": [
        {
          "output_type": "display_data",
          "data": {
            "text/plain": [
              "<Figure size 664.5x500 with 1 Axes>"
            ],
            "image/png": "[encoded data removed]"
          },
          "metadata": {}
        }
      ],
      "source": [
        "predicted_ratings_for_interacted_movies = predict_already_interacted_ratings(rating, 7, svd_algo_optimized)\n",
        "df = predicted_ratings_for_interacted_movies.melt(id_vars='movieId', value_vars=['actual_rating', 'predicted_rating'])\n",
        "sns.displot(data=df, x='value', hue='variable', kde=True);"
      ]
    },
    {
      "cell_type": "code",
      "execution_count": 62,
      "metadata": {
        "id": "aT0zASb-wIDO"
      },
      "outputs": [],
      "source": [
        "# Instantiating Reader scale with expected rating scale\n",
        "reader = Reader(rating_scale=(0, 5))\n",
        "\n",
        "# Loading the rating dataset\n",
        "data = Dataset.load_from_df(rating[['userId', 'movieId', 'rating']], reader)\n",
        "\n",
        "# Splitting the data into train and test dataset\n",
        "trainset, testset = train_test_split(data, test_size=0.2, random_state=42)"
      ]
    },
    {
      "cell_type": "markdown",
      "metadata": {
        "id": "kGbfBUnawIDO"
      },
      "source": [
        "## **Precision and Recall @ k**\n",
        "\n",
        "RMSE is not the only metric we can use here. We can also examine two fundamental measures, precision and recall. We also add a parameter k which is helpful in understanding problems with multiple rating outputs.\n",
        "\n",
        "**Precision@k** - It is the **fraction of recommended items that are relevant in `top k` predictions**. Value of k is the number of recommendations to be provided to the user. One can choose a variable number of recommendations to be given to a unique user.  \n",
        "\n",
        "**Recall@k** - It is the **fraction of relevant items that are recommended to the user in `top k` predictions**.\n",
        "\n",
        "**Recall** - It is the **fraction of actually relevant items that are recommended to the user** i.e. if out of 10 relevant movies, 6 are recommended to the user then recall is 0.60. Higher the value of recall better is the model. It is one of the metrics to do the performance assessment of classification models.\n",
        "\n",
        "**Precision** - It is the **fraction of recommended items that are relevant actually** i.e. if out of 10 recommended items, 6 are found relevant by the user then precision is 0.60. The higher the value of precision better is the model. It is one of the metrics to do the performance assessment of classification models.\n",
        "\n",
        "See the Precision and Recall @ k section of your notebook and follow the instructions to compute various precision/recall values at various values of k.\n",
        "\n",
        "To know more about precision recall in Recommendation systems refer to these links : \n",
        "\n",
        "https://surprise.readthedocs.io/en/stable/FAQ.html\n",
        "\n",
        "https://medium.com/@m_n_malaeb/recall-and-precision-at-k-for-recommender-systems-618483226c54"
      ]
    },
    {
      "cell_type": "markdown",
      "metadata": {
        "id": "b_norGWOwIDP"
      },
      "source": [
        "### **Question6: Compute the precision and recall, for each of the 6 models, at k = 5 and 10. This is 6 x 2 = 12 numerical values? (4 marks)**"
      ]
    },
    {
      "cell_type": "code",
      "execution_count": 64,
      "metadata": {
        "id": "gihoUY5uwIDQ",
        "scrolled": false
      },
      "outputs": [],
      "source": [
        "# Function can be found on surprise documentation FAQs\n",
        "def precision_recall_at_k(predictions, k=10, threshold=3.5):\n",
        "    \"\"\"Return precision and recall at k metrics for each user\"\"\"\n",
        "\n",
        "    # First map the predictions to each user.\n",
        "    user_est_true = defaultdict(list)\n",
        "    for uid, _, true_r, est, _ in predictions:\n",
        "        user_est_true[uid].append((est, true_r))\n",
        "\n",
        "    precisions = dict()\n",
        "    recalls = dict()\n",
        "    for uid, user_ratings in user_est_true.items():\n",
        "\n",
        "        # Sort user ratings by estimated value\n",
        "        user_ratings.sort(key=lambda x: x[0], reverse=True)\n",
        "\n",
        "        # Number of relevant items\n",
        "        n_rel = sum((true_r >= threshold) for (_, true_r) in user_ratings)\n",
        "\n",
        "        # Number of recommended items in top k\n",
        "        n_rec_k = sum((est >= threshold) for (est, _) in user_ratings[:k])\n",
        "\n",
        "        # Number of relevant and recommended items in top k\n",
        "        n_rel_and_rec_k = sum(((true_r >= threshold) and (est >= threshold))\n",
        "                              for (est, true_r) in user_ratings[:k])\n",
        "\n",
        "        # Precision@K: Proportion of recommended items that are relevant\n",
        "        # When n_rec_k is 0, Precision is undefined. We here set it to 0.\n",
        "\n",
        "        precisions[uid] = n_rel_and_rec_k / n_rec_k if n_rec_k != 0 else 0\n",
        "\n",
        "        # Recall@K: Proportion of relevant items that are recommended\n",
        "        # When n_rel is 0, Recall is undefined. We here set it to 0.\n",
        "\n",
        "        recalls[uid] = n_rel_and_rec_k / n_rel if n_rel != 0 else 0\n",
        "\n",
        "    return precisions, recalls\n",
        "\n"
      ]
    },
    {
      "cell_type": "code",
      "execution_count": 66,
      "metadata": {
        "id": "57qD5TFRnm1W",
        "colab": {
          "base_uri": "https://localhost:8080/"
        },
        "outputId": "fe026696-c308-4bd9-fed3-3cb5f1b2fb8b"
      },
      "outputs": [
        {
          "output_type": "stream",
          "name": "stdout",
          "text": [
            "> k=5, model=KNNBasic\n",
            "Computing the cosine similarity matrix...\n",
            "Done computing similarity matrix.\n",
            "Computing the cosine similarity matrix...\n",
            "Done computing similarity matrix.\n",
            "Computing the cosine similarity matrix...\n",
            "Done computing similarity matrix.\n",
            "Computing the cosine similarity matrix...\n",
            "Done computing similarity matrix.\n",
            "Computing the cosine similarity matrix...\n",
            "Done computing similarity matrix.\n",
            "-----> Precision:  0.77\n",
            "-----> Recall:  0.416\n",
            "> k=5, model=KNNBasic\n",
            "-----> Precision:  0.612\n",
            "-----> Recall:  0.333\n",
            "> k=5, model=KNNBasic\n",
            "Computing the cosine similarity matrix...\n",
            "Done computing similarity matrix.\n",
            "Computing the cosine similarity matrix...\n",
            "Done computing similarity matrix.\n",
            "Computing the cosine similarity matrix...\n",
            "Done computing similarity matrix.\n",
            "Computing the cosine similarity matrix...\n",
            "Done computing similarity matrix.\n",
            "Computing the cosine similarity matrix...\n",
            "Done computing similarity matrix.\n",
            "-----> Precision:  0.766\n",
            "-----> Recall:  0.409\n",
            "> k=5, model=KNNBasic\n",
            "-----> Precision:  0.602\n",
            "-----> Recall:  0.326\n",
            "> k=5, model=SVD\n",
            "-----> Precision:  0.753\n",
            "-----> Recall:  0.383\n",
            "> k=5, model=SVD\n",
            "-----> Precision:  0.744\n",
            "-----> Recall:  0.384\n",
            "> k=10, model=KNNBasic\n",
            "Computing the cosine similarity matrix...\n",
            "Done computing similarity matrix.\n",
            "Computing the cosine similarity matrix...\n",
            "Done computing similarity matrix.\n",
            "Computing the cosine similarity matrix...\n",
            "Done computing similarity matrix.\n",
            "Computing the cosine similarity matrix...\n",
            "Done computing similarity matrix.\n",
            "Computing the cosine similarity matrix...\n",
            "Done computing similarity matrix.\n",
            "-----> Precision:  0.749\n",
            "-----> Recall:  0.552\n",
            "> k=10, model=KNNBasic\n",
            "-----> Precision:  0.598\n",
            "-----> Recall:  0.479\n",
            "> k=10, model=KNNBasic\n",
            "Computing the cosine similarity matrix...\n",
            "Done computing similarity matrix.\n",
            "Computing the cosine similarity matrix...\n",
            "Done computing similarity matrix.\n",
            "Computing the cosine similarity matrix...\n",
            "Done computing similarity matrix.\n",
            "Computing the cosine similarity matrix...\n",
            "Done computing similarity matrix.\n",
            "Computing the cosine similarity matrix...\n",
            "Done computing similarity matrix.\n",
            "-----> Precision:  0.748\n",
            "-----> Recall:  0.547\n",
            "> k=10, model=KNNBasic\n",
            "-----> Precision:  0.598\n",
            "-----> Recall:  0.476\n",
            "> k=10, model=SVD\n",
            "-----> Precision:  0.737\n",
            "-----> Recall:  0.521\n",
            "> k=10, model=SVD\n",
            "-----> Precision:  0.729\n",
            "-----> Recall:  0.526\n"
          ]
        }
      ],
      "source": [
        "# A basic cross-validation iterator.\n",
        "kf = KFold(n_splits=5)\n",
        "\n",
        "# Make list of k values\n",
        "K = [5, 10]\n",
        "\n",
        "# Remove _______ and complete the code\n",
        "# Make list of models\n",
        "models = [similarity_algo_optimized_user, similarity_algo_optimized_item, algo_knn_user, algo_knn_item, algo_svd, svd_algo_optimized]\n",
        "\n",
        "for k in K:\n",
        "    for model in models:\n",
        "        print('> k={}, model={}'.format(k,model.__class__.__name__))\n",
        "        p = []\n",
        "        r = []\n",
        "        for trainset, testset in kf.split(data):\n",
        "            model.fit(trainset)\n",
        "            predictions = model.test(testset, verbose=False)\n",
        "            precisions, recalls = precision_recall_at_k(predictions, k=k, threshold=3.5)\n",
        "\n",
        "            # Precision and recall can then be averaged over all users\n",
        "            p.append(sum(prec for prec in precisions.values()) / len(precisions))\n",
        "            r.append(sum(rec for rec in recalls.values()) / len(recalls))\n",
        "        \n",
        "        print('-----> Precision: ', round(sum(p) / len(p), 3))\n",
        "        print('-----> Recall: ', round(sum(r) / len(r), 3))"
      ]
    },
    {
      "cell_type": "markdown",
      "metadata": {
        "id": "08dezW5P6O1Z"
      },
      "source": [
        "### **Question 7 ( 5 Marks)**\n",
        "**7.1 Compare the results from the base line user-user and item-item based models.**\n",
        "\n",
        "**7.2 How do these baseline models compare to each other with respect to the tuned user-user and item-item models?**\n",
        "\n",
        "**7.3 The matrix factorization model is different from the collaborative filtering models. Briefly describe this difference. Also, compare the RMSE and precision recall for the models.**\n",
        "\n",
        "**7.4 Does it improve? Can you offer any reasoning as to why that might be?**"
      ]
    },
    {
      "cell_type": "code",
      "source": [
        "data = {\n",
        "    'Model': ['KNNBasic U-U', 'KNNBasic I-I', 'KNNTuned U-U', 'KNNTuned I-I', 'SVD', 'SVDTuned'],\n",
        "    'Precision k=5': [0.766, 0.602, 0.770, 0.612, 0.753, 0.744],\n",
        "    'Recall k=5': [0.409, 0.326, 0.416, 0.333, 0.383, 0.384],\n",
        "    'Precision k=10': [0.748, 0.598, 0.749, 0.598, 0.737, 0.729],\n",
        "    'Recall k=10': [0.547, 0.476, 0.552, 0.479, 0.521, 0.526]\n",
        "}\n",
        "\n",
        "df = pd.DataFrame(data)\n",
        "df.set_index('Model', inplace=True)\n",
        "print(df)"
      ],
      "metadata": {
        "colab": {
          "base_uri": "https://localhost:8080/"
        },
        "id": "GUgFE-zMZaLR",
        "outputId": "8a7bb906-4c39-4517-893d-732ffc80b110"
      },
      "execution_count": 67,
      "outputs": [
        {
          "output_type": "stream",
          "name": "stdout",
          "text": [
            "              Precision k=5  Recall k=5  Precision k=10  Recall k=10\n",
            "Model                                                               \n",
            "KNNBasic U-U          0.766       0.409           0.748        0.547\n",
            "KNNBasic I-I          0.602       0.326           0.598        0.476\n",
            "KNNTuned U-U          0.770       0.416           0.749        0.552\n",
            "KNNTuned I-I          0.612       0.333           0.598        0.479\n",
            "SVD                   0.753       0.383           0.737        0.521\n",
            "SVDTuned              0.744       0.384           0.729        0.526\n"
          ]
        }
      ]
    },
    {
      "cell_type": "markdown",
      "metadata": {
        "id": "2W0MdIZ1wIDS"
      },
      "source": [
        "**Write your Answer here:**\n",
        "\n",
        "\n",
        "7.1\n",
        "The precision for the user-user model at k=5 was 0.766 and recall was 0.409. For the item-item model, the precision was 0.602 and the recall was 0.326. This suggests that user-user model has better precision and recall compared to the item-item model. Increasing to k=10 lead to a decrease in precision versus a significant increase in recall in both models.\n",
        "\n",
        "7.2 When comparing the baseline models with the tuned models, the precision and recall scores slightly improve for the User-User model while remaining roughly the same for the Item-Item model.\n",
        "\n",
        "7.3 Collaborative filtering models function by collecting preferences or taste information from many users. This is based on the assumption that if two users have a similar rating for an item, they are likely to agree on other items as well. In contrast, SVD attempts to map both users and items to a joint latent factor space. These latent factors are supposed to capture characteristics of the items and user's preferences on them. In the current dataset, the SVD models have slightly lower precision but similar recall to the U-U models and higher precision and recall than the I-I models.\n",
        "\n",
        "7.4\n",
        "The performance of the models does improve slightly with tuning, especially in the User-User model. This could be due to the nature of the data being more aligned with user behavior patterns, making the User-User model more suitable and thus benefiting more from tuning.\n",
        "\n"
      ]
    },
    {
      "cell_type": "markdown",
      "metadata": {
        "id": "TgDOPCXOvOOM"
      },
      "source": [
        "### **Conclusions**"
      ]
    },
    {
      "cell_type": "markdown",
      "metadata": {
        "id": "WJ4L2PwQvOOM"
      },
      "source": [
        "In this case study, we saw three different ways of building recommendation systems: \n",
        "- rank-based using averages\n",
        "- similarity-based collaborative filtering\n",
        "- model-based (matrix factorization) collaborative filtering"
      ]
    },
    {
      "cell_type": "markdown",
      "metadata": {
        "id": "4XP9B9bVvOOM"
      },
      "source": [
        "We also understood advantages/disadvantages of these recommendation systems and when to use which kind of recommendation systems. Once we build these recommendation systems, we can use **A/B Testing** to measure the effectiveness of these systems."
      ]
    },
    {
      "cell_type": "markdown",
      "metadata": {
        "id": "fAQfeVYLvOOM"
      },
      "source": [
        "Here is an article explaining how [Amazon use **A/B Testing**](https://aws.amazon.com/blogs/machine-learning/using-a-b-testing-to-measure-the-efficacy-of-recommendations-generated-by-amazon-personalize/) to measure effectiveness of its recommendation systems."
      ]
    }
  ],
  "metadata": {
    "colab": {
      "provenance": [],
      "include_colab_link": true
    },
    "kernelspec": {
      "display_name": "Python 3 (ipykernel)",
      "language": "python",
      "name": "python3"
    },
    "language_info": {
      "codemirror_mode": {
        "name": "ipython",
        "version": 3
      },
      "file_extension": ".py",
      "mimetype": "text/x-python",
      "name": "python",
      "nbconvert_exporter": "python",
      "pygments_lexer": "ipython3",
      "version": "3.10.5"
    }
  },
  "nbformat": 4,
  "nbformat_minor": 0
}